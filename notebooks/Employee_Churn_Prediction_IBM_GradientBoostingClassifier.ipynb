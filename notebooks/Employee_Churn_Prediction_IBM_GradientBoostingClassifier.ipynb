{
 "cells": [
  {
   "cell_type": "code",
   "execution_count": 13,
   "metadata": {},
   "outputs": [],
   "source": [
    "# Importing Libraries\n",
    "\n",
    "import pandas as pd\n",
    "import numpy as np\n",
    "import matplotlib.pyplot as plt\n",
    "import os\n",
    "import random\n",
    "import math\n",
    "import chardet\n",
    "import warnings\n",
    "warnings.filterwarnings('ignore')\n",
    "import seaborn as sns\n",
    "import heapq\n",
    "import re\n",
    "import plotnine\n",
    "import copy\n",
    "import pydot\n",
    "import graphviz\n",
    "from graphviz import Source\n",
    "from scipy.stats import randint as sp_randint\n",
    "from sklearn.linear_model import LinearRegression, LogisticRegression\n",
    "import statsmodels.api as sm\n",
    "import statsmodels.formula.api as smf\n",
    "from statsmodels.formula.api import ols, logit \n",
    "from statsmodels.stats.outliers_influence import variance_inflation_factor\n",
    "from kmodes.kprototypes import KPrototypes\n",
    "from sklearn.cluster import KMeans\n",
    "from sklearn.preprocessing import StandardScaler\n",
    "from scipy.spatial import distance\n",
    "from sklearn.decomposition import PCA\n",
    "from sklearn.model_selection import train_test_split, RandomizedSearchCV, StratifiedKFold, RepeatedStratifiedKFold, GridSearchCV\n",
    "from sklearn.feature_selection import RFECV, RFE\n",
    "from sklearn.ensemble import RandomForestRegressor, RandomForestClassifier, GradientBoostingClassifier\n",
    "from sklearn.metrics import make_scorer, accuracy_score, precision_score, recall_score, f1_score, confusion_matrix, roc_auc_score, roc_curve\n",
    "from sklearn.tree import export_graphviz\n",
    "from sklearn.pipeline import Pipeline\n",
    "from sklearn.datasets import make_classification\n",
    "from IPython.display import display\n",
    "from pprint import pprint"
   ]
  },
  {
   "cell_type": "code",
   "execution_count": 2,
   "metadata": {},
   "outputs": [],
   "source": [
    "# Importing processed data into notebook\n",
    "\n",
    "sourcepath = 'D:\\Work\\Research\\Dropbox\\Machine Learning\\Side Projects\\Employee Churn IBM\\employee_churn_prediction_ibm'\n",
    "datapath = os.path.join(sourcepath, 'data','processed','IBM_HR_Data_Cleaned.csv')\n",
    "\n",
    "IBMData = pd.read_csv(datapath)"
   ]
  },
  {
   "cell_type": "code",
   "execution_count": 3,
   "metadata": {},
   "outputs": [],
   "source": [
    "# Dropping irrelevant variables\n",
    "\n",
    "IBMData.drop(['EmployeeNumber'], axis = 1, inplace = True)"
   ]
  },
  {
   "cell_type": "code",
   "execution_count": 4,
   "metadata": {},
   "outputs": [],
   "source": [
    "# Changing the types of some variables \n",
    "\n",
    "numvars = ['Age','DailyRate','DistanceFromHome','HourlyRate','MonthlyIncome','MonthlyRate','NumCompaniesWorked', \n",
    "          'PercentSalaryHike','PerformanceRating','TotalWorkingYears','TrainingTimesLastYear','YearsAtCompany',\n",
    "          'YearsInCurrentRole','YearsSinceLastPromotion','YearsWithCurrManager']\n",
    "newnumvars = ['Education','EnvironmentSatisfaction','JobInvolvement','JobLevel','JobSatisfaction','PerformanceRating',\n",
    "              'RelationshipSatisfaction','StockOptionLevel','WorkLifeBalance']\n",
    "catvars = [item for item in IBMData.columns.to_list() if item not in numvars and item not in newnumvars and item != 'Attrition']"
   ]
  },
  {
   "cell_type": "code",
   "execution_count": 5,
   "metadata": {},
   "outputs": [],
   "source": [
    "IBMData[numvars] = IBMData[numvars].apply(pd.to_numeric, axis = 1, downcast = 'float')\n",
    "IBMData[newnumvars] = IBMData[newnumvars].apply(pd.to_numeric, axis = 1, downcast = 'float')\n",
    "IBMData[catvars] = IBMData[catvars].astype('category')"
   ]
  },
  {
   "cell_type": "code",
   "execution_count": 6,
   "metadata": {},
   "outputs": [],
   "source": [
    "# Now rename some of the categorical variable levels\n",
    "\n",
    "IBMData['BusinessTravel'].cat.rename_categories(\n",
    "        {'Travel_Rarely':'Rare','Travel_Frequently':'Freq','Non-Travel':'No'}, inplace = True)\n",
    "IBMData['Department'].cat.rename_categories(\n",
    "    {'Research & Development':'R&D','Sales':'Sales','Human Resources':'HR'}, inplace = True)\n",
    "IBMData['EducationField'].cat.rename_categories(\n",
    "    {'Life Sciences':'LifeSc','Technical Degree':'Technical','Human Resources':'EducHR'}, inplace = True)\n",
    "IBMData['JobRole'].cat.rename_categories(\n",
    "    {'Sales Executive':'SalexExec','Research Scientist':'Scientist','Laboratory Technician':'LabTech',\n",
    "    'Manufacturing Director':'ManufDir','Healthcare Representative':'HealthRep','Sales Representative':'SalesRep',\n",
    "    'Research Director':'ResDir','Human Resources':'RoleHR'}, inplace = True)"
   ]
  },
  {
   "cell_type": "code",
   "execution_count": 7,
   "metadata": {},
   "outputs": [],
   "source": [
    "# Now re-categorize the Attrition (outcome) variable from object to int\n",
    "\n",
    "exit_status_map = {'Yes':1, 'No':0}\n",
    "IBMData['Attrition'] = IBMData['Attrition'].map(exit_status_map)"
   ]
  },
  {
   "cell_type": "code",
   "execution_count": 8,
   "metadata": {},
   "outputs": [],
   "source": [
    "# Now check the data types of the columns\n",
    "\n",
    "#IBMData.dtypes"
   ]
  },
  {
   "cell_type": "code",
   "execution_count": 9,
   "metadata": {},
   "outputs": [],
   "source": [
    "# Now generate a new dataframe and then separate the predictors from outcome, and encode the dummies\n",
    "\n",
    "IBMDataNew = IBMData.copy(deep = True)\n",
    "IBMDataNewLabel = IBMDataNew['Attrition'].copy(deep = True)\n",
    "IBMDataNew.drop(['Attrition'], axis = 1, inplace = True)\n",
    "IBMDataNew = pd.get_dummies(IBMDataNew)"
   ]
  },
  {
   "cell_type": "code",
   "execution_count": 10,
   "metadata": {},
   "outputs": [
    {
     "name": "stdout",
     "output_type": "stream",
     "text": [
      "Size of the initial data frame: (1470, 31)\n",
      "Size of the new data frame with predictors: (1470, 51)\n",
      "Size of the new data frame with labels: 1470\n",
      "\n",
      "Variable Names in initial data frame:  ['Age', 'Attrition', 'BusinessTravel', 'DailyRate', 'Department', 'DistanceFromHome', 'Education', 'EducationField', 'EnvironmentSatisfaction', 'Gender', 'HourlyRate', 'JobInvolvement', 'JobLevel', 'JobRole', 'JobSatisfaction', 'MaritalStatus', 'MonthlyIncome', 'MonthlyRate', 'NumCompaniesWorked', 'OverTime', 'PercentSalaryHike', 'PerformanceRating', 'RelationshipSatisfaction', 'StockOptionLevel', 'TotalWorkingYears', 'TrainingTimesLastYear', 'WorkLifeBalance', 'YearsAtCompany', 'YearsInCurrentRole', 'YearsSinceLastPromotion', 'YearsWithCurrManager']\n",
      "\n",
      "Variance Names in new data frame with predictors:  ['Age', 'DailyRate', 'DistanceFromHome', 'Education', 'EnvironmentSatisfaction', 'HourlyRate', 'JobInvolvement', 'JobLevel', 'JobSatisfaction', 'MonthlyIncome', 'MonthlyRate', 'NumCompaniesWorked', 'PercentSalaryHike', 'PerformanceRating', 'RelationshipSatisfaction', 'StockOptionLevel', 'TotalWorkingYears', 'TrainingTimesLastYear', 'WorkLifeBalance', 'YearsAtCompany', 'YearsInCurrentRole', 'YearsSinceLastPromotion', 'YearsWithCurrManager', 'BusinessTravel_No', 'BusinessTravel_Freq', 'BusinessTravel_Rare', 'Department_HR', 'Department_R&D', 'Department_Sales', 'EducationField_EducHR', 'EducationField_LifeSc', 'EducationField_Marketing', 'EducationField_Medical', 'EducationField_Other', 'EducationField_Technical', 'Gender_Female', 'Gender_Male', 'JobRole_HealthRep', 'JobRole_RoleHR', 'JobRole_LabTech', 'JobRole_Manager', 'JobRole_ManufDir', 'JobRole_ResDir', 'JobRole_Scientist', 'JobRole_SalexExec', 'JobRole_SalesRep', 'MaritalStatus_Divorced', 'MaritalStatus_Married', 'MaritalStatus_Single', 'OverTime_No', 'OverTime_Yes']\n"
     ]
    }
   ],
   "source": [
    "# Now check some of the characteristics of the datasets created and the initial dataset\n",
    "\n",
    "print('Size of the initial data frame: {}'.format(IBMData.shape))\n",
    "print('Size of the new data frame with predictors: {}'.format(IBMDataNew.shape))\n",
    "print('Size of the new data frame with labels: {}'.format(len(IBMDataNewLabel)))\n",
    "print('\\nVariable Names in initial data frame: ', IBMData.columns.to_list())\n",
    "print('\\nVariance Names in new data frame with predictors: ', IBMDataNew.columns.to_list())"
   ]
  },
  {
   "cell_type": "code",
   "execution_count": 11,
   "metadata": {},
   "outputs": [
    {
     "name": "stdout",
     "output_type": "stream",
     "text": [
      "Shapes of train and test predictors sets respectively are:  (1102, 51) (368, 51)\n",
      "Size of train and test labels respectively are:  1102 368\n",
      "\n",
      "Proportion of exits in train and test sets respectively:  0.161 0.163\n"
     ]
    }
   ],
   "source": [
    "# Now we split the data into training and test sets\n",
    "\n",
    "seed = 50\n",
    "Xtrain, Xtest, Ytrain, Ytest = train_test_split(IBMDataNew, IBMDataNewLabel, test_size = 0.25, random_state = seed)\n",
    "\n",
    "# Now show some of the characteristics of the test and train sets\n",
    "print('Shapes of train and test predictors sets respectively are: ', Xtrain.shape, Xtest.shape)\n",
    "print('Size of train and test labels respectively are: ', len(Ytrain), len(Ytest))\n",
    "print('\\nProportion of exits in train and test sets respectively: ', round(sum(Ytrain)/len(Ytrain),3), round(sum(Ytest)/len(Ytest),3))\n",
    "\n",
    "# Now split the main data as well by using the index of the train and test sets\n",
    "IBMData_train = IBMData.loc[Xtrain.index,:].copy(deep = True)\n",
    "IBMData_test = IBMData.loc[Xtest.index,:].copy(deep = True)"
   ]
  },
  {
   "cell_type": "markdown",
   "metadata": {},
   "source": [
    "### Simple Gradient Boosting Classifier"
   ]
  },
  {
   "cell_type": "code",
   "execution_count": 14,
   "metadata": {},
   "outputs": [],
   "source": [
    "scaler = StandardScaler()\n",
    "XtrainNew = scaler.fit(Xtrain).transform(Xtrain)\n",
    "XtestNew = scaler.fit(Xtest).transform(Xtest)"
   ]
  },
  {
   "cell_type": "code",
   "execution_count": 15,
   "metadata": {},
   "outputs": [
    {
     "data": {
      "text/plain": [
       "GradientBoostingClassifier(learning_rate=0.01, n_estimators=200,\n",
       "                           random_state=50, validation_fraction=0.2)"
      ]
     },
     "execution_count": 15,
     "metadata": {},
     "output_type": "execute_result"
    }
   ],
   "source": [
    "seed = 50\n",
    "\n",
    "est = GradientBoostingClassifier(learning_rate = 0.01, n_estimators = 200, \n",
    "                                 random_state = seed, verbose = 0, validation_fraction = 0.2)\n",
    "\n",
    "est.fit(XtrainNew, Ytrain)"
   ]
  },
  {
   "cell_type": "code",
   "execution_count": 20,
   "metadata": {},
   "outputs": [],
   "source": [
    "Ypred = est.predict(XtestNew)"
   ]
  },
  {
   "cell_type": "code",
   "execution_count": 21,
   "metadata": {},
   "outputs": [
    {
     "name": "stdout",
     "output_type": "stream",
     "text": [
      "Accuracy of prediction: 84.783%\n",
      "Precision of prediction: 83.333%\n",
      "Recall of prediction: 8.333%\n",
      "F1 Score of prediction: 0.152\n",
      "ROC-AUC Score of prediction: 0.54\n"
     ]
    },
    {
     "data": {
      "image/png": "[encoded data removed]",
      "text/plain": [
       "<Figure size 432x288 with 1 Axes>"
      ]
     },
     "metadata": {
      "needs_background": "light"
     },
     "output_type": "display_data"
    }
   ],
   "source": [
    "print('Accuracy of prediction: {:2.3%}'.format(accuracy_score(Ytest, Ypred)))\n",
    "print('Precision of prediction: {:2.3%}'.format(precision_score(Ytest, Ypred)))\n",
    "print('Recall of prediction: {:2.3%}'.format(recall_score(Ytest, Ypred)))\n",
    "print('F1 Score of prediction: {:1.3}'.format(f1_score(Ytest, Ypred)))\n",
    "print('ROC-AUC Score of prediction: {:1.3}'.format(roc_auc_score(Ytest, Ypred)))\n",
    "\n",
    "# Now plot the roc_auc_curve\n",
    "fpr, tpr, threshold = roc_curve(Ytest, est.predict_proba(XtestNew)[:,1])\n",
    "\n",
    "plt.figure()\n",
    "plt.plot(fpr, tpr, label = 'Logistic Regression (area = %0.2f)' % roc_auc_score(Ytest, Ypred))\n",
    "plt.plot([0, 1], [0, 1], 'r--')\n",
    "plt.xlim([0.0, 1.0])\n",
    "plt.ylim([0.0, 1.05])\n",
    "plt.xlabel('False Positive Rate')\n",
    "plt.ylabel('True Positive Rate')\n",
    "plt.title('Receiver operating characteristic')\n",
    "plt.legend(loc=\"lower right\")\n",
    "plt.show()"
   ]
  },
  {
   "cell_type": "code",
   "execution_count": 27,
   "metadata": {},
   "outputs": [],
   "source": [
    "## Now implement GradientBoostingClassifier along with GridSearchCV\n",
    "\n",
    "param_grid = {'learning_rate':np.logspace(-4,1,2), \n",
    "             'n_estimators':np.arange(100, 510, 100),\n",
    "             'criterion':['friedman_mse', 'mse'],\n",
    "             'max_depth':np.arange(2,4),\n",
    "             'max_features':['auto','sqrt','log2']}\n",
    "\n",
    "gbc = GradientBoostingClassifier(random_state = seed, verbose = 0)\n",
    "gbc_best = GridSearchCV(gbc, param_grid, cv = 3, scoring = 'roc_auc')"
   ]
  },
  {
   "cell_type": "code",
   "execution_count": 28,
   "metadata": {},
   "outputs": [
    {
     "data": {
      "text/plain": [
       "GridSearchCV(cv=3, estimator=GradientBoostingClassifier(random_state=50),\n",
       "             param_grid={'criterion': ['friedman_mse', 'mse'],\n",
       "                         'learning_rate': array([1.e-04, 1.e+01]),\n",
       "                         'max_depth': array([2, 3]),\n",
       "                         'max_features': ['auto', 'sqrt', 'log2'],\n",
       "                         'n_estimators': array([100, 200, 300, 400, 500])},\n",
       "             scoring='roc_auc')"
      ]
     },
     "execution_count": 28,
     "metadata": {},
     "output_type": "execute_result"
    }
   ],
   "source": [
    "gbc_best.fit(XtrainNew, Ytrain)"
   ]
  },
  {
   "cell_type": "code",
   "execution_count": 29,
   "metadata": {},
   "outputs": [
    {
     "name": "stdout",
     "output_type": "stream",
     "text": [
      "__abstractmethods__\n",
      "__class__\n",
      "__delattr__\n",
      "__dict__\n",
      "__dir__\n",
      "__doc__\n",
      "__eq__\n",
      "__format__\n",
      "__ge__\n",
      "__getattribute__\n",
      "__getstate__\n",
      "__gt__\n",
      "__hash__\n",
      "__init__\n",
      "__init_subclass__\n",
      "__le__\n",
      "__lt__\n",
      "__module__\n",
      "__ne__\n",
      "__new__\n",
      "__reduce__\n",
      "__reduce_ex__\n",
      "__repr__\n",
      "__setattr__\n",
      "__setstate__\n",
      "__sizeof__\n",
      "__str__\n",
      "__subclasshook__\n",
      "__weakref__\n",
      "_abc_impl\n",
      "_check_is_fitted\n",
      "_check_n_features\n",
      "_estimator_type\n",
      "_format_results\n",
      "_get_param_names\n",
      "_get_tags\n",
      "_more_tags\n",
      "_pairwise\n",
      "_repr_html_\n",
      "_repr_html_inner\n",
      "_repr_mimebundle_\n",
      "_required_parameters\n",
      "_run_search\n",
      "_validate_data\n",
      "best_estimator_\n",
      "best_index_\n",
      "best_params_\n",
      "best_score_\n",
      "classes_\n",
      "cv\n",
      "cv_results_\n",
      "decision_function\n",
      "error_score\n",
      "estimator\n",
      "fit\n",
      "get_params\n",
      "iid\n",
      "inverse_transform\n",
      "multimetric_\n",
      "n_features_in_\n",
      "n_jobs\n",
      "n_splits_\n",
      "param_grid\n",
      "pre_dispatch\n",
      "predict\n",
      "predict_log_proba\n",
      "predict_proba\n",
      "refit\n",
      "refit_time_\n",
      "return_train_score\n",
      "score\n",
      "scorer_\n",
      "scoring\n",
      "set_params\n",
      "transform\n",
      "verbose\n"
     ]
    }
   ],
   "source": [
    "for attr in dir(gbc_best):\n",
    "    print(attr)\n"
   ]
  },
  {
   "cell_type": "code",
   "execution_count": 30,
   "metadata": {},
   "outputs": [
    {
     "name": "stdout",
     "output_type": "stream",
     "text": [
      "{'criterion': 'friedman_mse', 'learning_rate': 0.0001, 'max_depth': 2, 'max_features': 'log2', 'n_estimators': 100}\n"
     ]
    }
   ],
   "source": [
    "print(gbc_best.best_params_)"
   ]
  },
  {
   "cell_type": "code",
   "execution_count": 31,
   "metadata": {},
   "outputs": [],
   "source": [
    "Ypred = gbc_best.predict(XtestNew)"
   ]
  },
  {
   "cell_type": "code",
   "execution_count": 32,
   "metadata": {},
   "outputs": [
    {
     "name": "stdout",
     "output_type": "stream",
     "text": [
      "Accuracy of prediction: 83.696%\n",
      "Precision of prediction: 0.000%\n",
      "Recall of prediction: 0.000%\n",
      "F1 Score of prediction: 0.0\n",
      "ROC-AUC Score of prediction: 0.5\n"
     ]
    },
    {
     "data": {
      "image/png": "[encoded data removed]",
      "text/plain": [
       "<Figure size 432x288 with 1 Axes>"
      ]
     },
     "metadata": {
      "needs_background": "light"
     },
     "output_type": "display_data"
    }
   ],
   "source": [
    "print('Accuracy of prediction: {:2.3%}'.format(accuracy_score(Ytest, Ypred)))\n",
    "print('Precision of prediction: {:2.3%}'.format(precision_score(Ytest, Ypred)))\n",
    "print('Recall of prediction: {:2.3%}'.format(recall_score(Ytest, Ypred)))\n",
    "print('F1 Score of prediction: {:1.3}'.format(f1_score(Ytest, Ypred)))\n",
    "print('ROC-AUC Score of prediction: {:1.3}'.format(roc_auc_score(Ytest, Ypred)))\n",
    "\n",
    "# Now plot the roc_auc_curve\n",
    "fpr, tpr, threshold = roc_curve(Ytest, gbc_best.predict_proba(XtestNew)[:,1])\n",
    "\n",
    "plt.figure()\n",
    "plt.plot(fpr, tpr, label = 'Logistic Regression (area = %0.2f)' % roc_auc_score(Ytest, Ypred))\n",
    "plt.plot([0, 1], [0, 1], 'r--')\n",
    "plt.xlim([0.0, 1.0])\n",
    "plt.ylim([0.0, 1.05])\n",
    "plt.xlabel('False Positive Rate')\n",
    "plt.ylabel('True Positive Rate')\n",
    "plt.title('Receiver operating characteristic')\n",
    "plt.legend(loc=\"lower right\")\n",
    "plt.show()"
   ]
  },
  {
   "cell_type": "code",
   "execution_count": null,
   "metadata": {},
   "outputs": [],
   "source": []
  }
 ],
 "metadata": {
  "kernelspec": {
   "display_name": "Python 3",
   "language": "python",
   "name": "python3"
  },
  "language_info": {
   "codemirror_mode": {
    "name": "ipython",
    "version": 3
   },
   "file_extension": ".py",
   "mimetype": "text/x-python",
   "name": "python",
   "nbconvert_exporter": "python",
   "pygments_lexer": "ipython3",
   "version": "3.8.5"
  }
 },
 "nbformat": 4,
 "nbformat_minor": 4
}
