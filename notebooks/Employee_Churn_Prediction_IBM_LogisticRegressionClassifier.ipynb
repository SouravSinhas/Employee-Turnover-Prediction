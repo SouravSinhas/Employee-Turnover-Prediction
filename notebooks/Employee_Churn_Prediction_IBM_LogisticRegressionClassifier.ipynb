{
 "cells": [
  {
   "cell_type": "code",
   "execution_count": 210,
   "metadata": {},
   "outputs": [],
   "source": [
    "# Importing Libraries\n",
    "\n",
    "import pandas as pd\n",
    "import numpy as np\n",
    "import matplotlib.pyplot as plt\n",
    "import os\n",
    "import random\n",
    "import math\n",
    "import chardet\n",
    "import warnings\n",
    "warnings.filterwarnings('ignore')\n",
    "import seaborn as sns\n",
    "import heapq\n",
    "import re\n",
    "import plotnine\n",
    "import copy\n",
    "import pydot\n",
    "import graphviz\n",
    "from graphviz import Source\n",
    "from scipy.stats import randint as sp_randint\n",
    "from sklearn.linear_model import LinearRegression, LogisticRegression\n",
    "import statsmodels.api as sm\n",
    "import statsmodels.formula.api as smf\n",
    "from statsmodels.formula.api import ols, logit \n",
    "from statsmodels.stats.outliers_influence import variance_inflation_factor\n",
    "from kmodes.kprototypes import KPrototypes\n",
    "from sklearn.cluster import KMeans\n",
    "from sklearn.preprocessing import StandardScaler\n",
    "from scipy.spatial import distance\n",
    "from sklearn.decomposition import PCA\n",
    "from sklearn.model_selection import train_test_split, RandomizedSearchCV, StratifiedKFold, GridSearchCV\n",
    "from sklearn.feature_selection import RFECV, RFE\n",
    "from sklearn.ensemble import RandomForestRegressor, RandomForestClassifier\n",
    "from sklearn.metrics import make_scorer, accuracy_score, precision_score, recall_score, f1_score, confusion_matrix, roc_auc_score, roc_curve\n",
    "from sklearn.tree import export_graphviz\n",
    "from sklearn.pipeline import Pipeline\n",
    "from sklearn.datasets import make_classification\n",
    "from IPython.display import display\n",
    "from pprint import pprint"
   ]
  },
  {
   "cell_type": "code",
   "execution_count": 97,
   "metadata": {},
   "outputs": [],
   "source": [
    "# Importing processed data into notebook\n",
    "\n",
    "sourcepath = 'D:\\Work\\Research\\Dropbox\\Machine Learning\\Side Projects\\Employee Churn IBM\\employee_churn_prediction_ibm'\n",
    "datapath = os.path.join(sourcepath, 'data','processed','IBM_HR_Data_Cleaned.csv')\n",
    "\n",
    "IBMData = pd.read_csv(datapath)"
   ]
  },
  {
   "cell_type": "code",
   "execution_count": 98,
   "metadata": {},
   "outputs": [],
   "source": [
    "# Dropping irrelevant variables\n",
    "\n",
    "IBMData.drop(['EmployeeNumber'], axis = 1, inplace = True)"
   ]
  },
  {
   "cell_type": "code",
   "execution_count": 99,
   "metadata": {},
   "outputs": [],
   "source": [
    "# Changing the types of some variables \n",
    "\n",
    "numvars = ['Age','DailyRate','DistanceFromHome','HourlyRate','MonthlyIncome','MonthlyRate','NumCompaniesWorked', \n",
    "          'PercentSalaryHike','PerformanceRating','TotalWorkingYears','TrainingTimesLastYear','YearsAtCompany',\n",
    "          'YearsInCurrentRole','YearsSinceLastPromotion','YearsWithCurrManager']\n",
    "newnumvars = ['Education','EnvironmentSatisfaction','JobInvolvement','JobLevel','JobSatisfaction','PerformanceRating',\n",
    "              'RelationshipSatisfaction','StockOptionLevel','WorkLifeBalance']\n",
    "catvars = [item for item in IBMData.columns.to_list() if item not in numvars and item not in newnumvars and item != 'Attrition']"
   ]
  },
  {
   "cell_type": "code",
   "execution_count": 100,
   "metadata": {},
   "outputs": [],
   "source": [
    "IBMData[numvars] = IBMData[numvars].apply(pd.to_numeric, axis = 1, downcast = 'float')\n",
    "IBMData[newnumvars] = IBMData[newnumvars].apply(pd.to_numeric, axis = 1, downcast = 'float')\n",
    "IBMData[catvars] = IBMData[catvars].astype('category')"
   ]
  },
  {
   "cell_type": "code",
   "execution_count": 101,
   "metadata": {},
   "outputs": [],
   "source": [
    "# Now rename some of the categorical variable levels\n",
    "\n",
    "IBMData['BusinessTravel'].cat.rename_categories(\n",
    "        {'Travel_Rarely':'Rare','Travel_Frequently':'Freq','Non-Travel':'No'}, inplace = True)\n",
    "IBMData['Department'].cat.rename_categories(\n",
    "    {'Research & Development':'R&D','Sales':'Sales','Human Resources':'HR'}, inplace = True)\n",
    "IBMData['EducationField'].cat.rename_categories(\n",
    "    {'Life Sciences':'LifeSc','Technical Degree':'Technical','Human Resources':'EducHR'}, inplace = True)\n",
    "IBMData['JobRole'].cat.rename_categories(\n",
    "    {'Sales Executive':'SalexExec','Research Scientist':'Scientist','Laboratory Technician':'LabTech',\n",
    "    'Manufacturing Director':'ManufDir','Healthcare Representative':'HealthRep','Sales Representative':'SalesRep',\n",
    "    'Research Director':'ResDir','Human Resources':'RoleHR'}, inplace = True)"
   ]
  },
  {
   "cell_type": "code",
   "execution_count": 102,
   "metadata": {},
   "outputs": [],
   "source": [
    "# Now re-categorize the Attrition (outcome) variable from object to int\n",
    "\n",
    "exit_status_map = {'Yes':1, 'No':0}\n",
    "IBMData['Attrition'] = IBMData['Attrition'].map(exit_status_map)"
   ]
  },
  {
   "cell_type": "code",
   "execution_count": 103,
   "metadata": {},
   "outputs": [],
   "source": [
    "# Now check the data types of the columns\n",
    "\n",
    "#IBMData.dtypes"
   ]
  },
  {
   "cell_type": "code",
   "execution_count": 104,
   "metadata": {},
   "outputs": [],
   "source": [
    "# Now generate a new dataframe and then separate the predictors from outcome, and encode the dummies\n",
    "\n",
    "IBMDataNew = IBMData.copy(deep = True)\n",
    "IBMDataNewLabel = IBMDataNew['Attrition'].copy(deep = True)\n",
    "IBMDataNew.drop(['Attrition'], axis = 1, inplace = True)\n",
    "IBMDataNew = pd.get_dummies(IBMDataNew)"
   ]
  },
  {
   "cell_type": "code",
   "execution_count": 105,
   "metadata": {},
   "outputs": [
    {
     "name": "stdout",
     "output_type": "stream",
     "text": [
      "Size of the initial data frame: (1470, 31)\n",
      "Size of the new data frame with predictors: (1470, 51)\n",
      "Size of the new data frame with labels: 1470\n",
      "\n",
      "Variable Names in initial data frame:  ['Age', 'Attrition', 'BusinessTravel', 'DailyRate', 'Department', 'DistanceFromHome', 'Education', 'EducationField', 'EnvironmentSatisfaction', 'Gender', 'HourlyRate', 'JobInvolvement', 'JobLevel', 'JobRole', 'JobSatisfaction', 'MaritalStatus', 'MonthlyIncome', 'MonthlyRate', 'NumCompaniesWorked', 'OverTime', 'PercentSalaryHike', 'PerformanceRating', 'RelationshipSatisfaction', 'StockOptionLevel', 'TotalWorkingYears', 'TrainingTimesLastYear', 'WorkLifeBalance', 'YearsAtCompany', 'YearsInCurrentRole', 'YearsSinceLastPromotion', 'YearsWithCurrManager']\n",
      "\n",
      "Variance Names in new data frame with predictors:  ['Age', 'DailyRate', 'DistanceFromHome', 'Education', 'EnvironmentSatisfaction', 'HourlyRate', 'JobInvolvement', 'JobLevel', 'JobSatisfaction', 'MonthlyIncome', 'MonthlyRate', 'NumCompaniesWorked', 'PercentSalaryHike', 'PerformanceRating', 'RelationshipSatisfaction', 'StockOptionLevel', 'TotalWorkingYears', 'TrainingTimesLastYear', 'WorkLifeBalance', 'YearsAtCompany', 'YearsInCurrentRole', 'YearsSinceLastPromotion', 'YearsWithCurrManager', 'BusinessTravel_No', 'BusinessTravel_Freq', 'BusinessTravel_Rare', 'Department_HR', 'Department_R&D', 'Department_Sales', 'EducationField_EducHR', 'EducationField_LifeSc', 'EducationField_Marketing', 'EducationField_Medical', 'EducationField_Other', 'EducationField_Technical', 'Gender_Female', 'Gender_Male', 'JobRole_HealthRep', 'JobRole_RoleHR', 'JobRole_LabTech', 'JobRole_Manager', 'JobRole_ManufDir', 'JobRole_ResDir', 'JobRole_Scientist', 'JobRole_SalexExec', 'JobRole_SalesRep', 'MaritalStatus_Divorced', 'MaritalStatus_Married', 'MaritalStatus_Single', 'OverTime_No', 'OverTime_Yes']\n"
     ]
    }
   ],
   "source": [
    "# Now check some of the characteristics of the datasets created and the initial dataset\n",
    "\n",
    "print('Size of the initial data frame: {}'.format(IBMData.shape))\n",
    "print('Size of the new data frame with predictors: {}'.format(IBMDataNew.shape))\n",
    "print('Size of the new data frame with labels: {}'.format(len(IBMDataNewLabel)))\n",
    "print('\\nVariable Names in initial data frame: ', IBMData.columns.to_list())\n",
    "print('\\nVariance Names in new data frame with predictors: ', IBMDataNew.columns.to_list())"
   ]
  },
  {
   "cell_type": "code",
   "execution_count": 106,
   "metadata": {},
   "outputs": [
    {
     "name": "stdout",
     "output_type": "stream",
     "text": [
      "Shapes of train and test predictors sets respectively are:  (1102, 51) (368, 51)\n",
      "Size of train and test labels respectively are:  1102 368\n",
      "\n",
      "Proportion of exits in train and test sets respectively:  0.161 0.163\n"
     ]
    }
   ],
   "source": [
    "# Now we split the data into training and test sets\n",
    "\n",
    "seed = 50\n",
    "Xtrain, Xtest, Ytrain, Ytest = train_test_split(IBMDataNew, IBMDataNewLabel, test_size = 0.25, random_state = seed)\n",
    "\n",
    "# Now show some of the characteristics of the test and train sets\n",
    "print('Shapes of train and test predictors sets respectively are: ', Xtrain.shape, Xtest.shape)\n",
    "print('Size of train and test labels respectively are: ', len(Ytrain), len(Ytest))\n",
    "print('\\nProportion of exits in train and test sets respectively: ', round(sum(Ytrain)/len(Ytrain),3), round(sum(Ytest)/len(Ytest),3))\n",
    "\n",
    "# Now split the main data as well by using the index of the train and test sets\n",
    "IBMData_train = IBMData.loc[Xtrain.index,:].copy(deep = True)\n",
    "IBMData_test = IBMData.loc[Xtest.index,:].copy(deep = True)"
   ]
  },
  {
   "cell_type": "markdown",
   "metadata": {},
   "source": [
    "### Implementing a Simple Logistic Regression"
   ]
  },
  {
   "cell_type": "code",
   "execution_count": 107,
   "metadata": {},
   "outputs": [
    {
     "name": "stdout",
     "output_type": "stream",
     "text": [
      "Formula to be used for logistic regression:\n",
      "\n",
      "Attrition ~ Age + C(BusinessTravel, Treatment(reference = \"No\")) + DailyRate + C(Department, Treatment(reference = \"HR\")) + DistanceFromHome + Education + C(EducationField, Treatment(reference = \"EducHR\")) + EnvironmentSatisfaction + C(Gender, Treatment(reference = \"Female\")) + HourlyRate + JobInvolvement + JobLevel + C(JobRole, Treatment(reference = \"RoleHR\")) + JobSatisfaction + C(MaritalStatus, Treatment(reference = \"Single\")) + MonthlyIncome + MonthlyRate + NumCompaniesWorked + C(OverTime, Treatment(reference = \"No\")) + PercentSalaryHike + PerformanceRating + RelationshipSatisfaction + StockOptionLevel + TotalWorkingYears + TrainingTimesLastYear + WorkLifeBalance + YearsAtCompany + YearsInCurrentRole + YearsSinceLastPromotion + YearsWithCurrManager\n",
      "\n",
      "Attrition ~ Age + C(BusinessTravel) + DailyRate + C(Department) + DistanceFromHome + Education + C(EducationField) + EnvironmentSatisfaction + C(Gender) + HourlyRate + JobInvolvement + JobLevel + C(JobRole) + JobSatisfaction + C(MaritalStatus) + MonthlyIncome + MonthlyRate + NumCompaniesWorked + C(OverTime) + PercentSalaryHike + PerformanceRating + RelationshipSatisfaction + StockOptionLevel + TotalWorkingYears + TrainingTimesLastYear + WorkLifeBalance + YearsAtCompany + YearsInCurrentRole + YearsSinceLastPromotion + YearsWithCurrManager\n",
      "\n",
      "Attrition ~ Age + Attrition + BusinessTravel + DailyRate + Department + DistanceFromHome + Education + EducationField + EnvironmentSatisfaction + Gender + HourlyRate + JobInvolvement + JobLevel + JobRole + JobSatisfaction + MaritalStatus + MonthlyIncome + MonthlyRate + NumCompaniesWorked + OverTime + PercentSalaryHike + PerformanceRating + RelationshipSatisfaction + StockOptionLevel + TotalWorkingYears + TrainingTimesLastYear + WorkLifeBalance + YearsAtCompany + YearsInCurrentRole + YearsSinceLastPromotion + YearsWithCurrManager\n"
     ]
    }
   ],
   "source": [
    "## Defining the forumula to be used for the simple logistic regression\n",
    "# Iterate through the feature list in the main data\n",
    "# If the feature is int/float, then include that with a '+' sign in the formula string\n",
    "# If the feature is a category then include the correct base level in the category name\n",
    "\n",
    "catbasedict = {'BusinessTravel':'No', 'Department':'HR', 'EducationField':'EducHR','Gender':'Female',\n",
    "               'JobRole':'RoleHR', 'MaritalStatus':'Single','OverTime':'No'}\n",
    "counter = 0\n",
    "formula = 'Attrition ~ '\n",
    "for item in IBMData.columns.to_list():\n",
    "    if(item is not 'Attrition' and IBMData[item].dtype.name == 'float32'):\n",
    "        if(counter == 0):\n",
    "            formula = formula + item\n",
    "        else:\n",
    "            formula = formula + ' + ' + item\n",
    "        counter = counter + 1    \n",
    "    elif(item is not 'Attrition' and IBMData[item].dtype.name == 'category'):\n",
    "        if(counter == 0):\n",
    "            formula = formula + 'C(' + item + ', Treatment(reference = \"' + catbasedict[item] + '\"))'\n",
    "        else:\n",
    "            formula = formula + ' + ' + 'C(' + item + ', Treatment(reference = \"' + catbasedict[item] + '\"))'\n",
    "        counter = counter + 1\n",
    "\n",
    "counter = 0        \n",
    "formula_simple = 'Attrition ~ '\n",
    "for item in IBMData.columns.to_list():\n",
    "    if(item is not 'Attrition' and IBMData[item].dtype.name == 'float32'):\n",
    "        if(counter == 0):\n",
    "            formula_simple = formula_simple + item\n",
    "        else:\n",
    "            formula_simple = formula_simple + ' + ' + item\n",
    "        counter = counter + 1    \n",
    "    elif(item is not 'Attrition' and IBMData[item].dtype.name == 'category'):\n",
    "        if(counter == 0):\n",
    "            formula_simple = formula_simple + 'C(' + item + ')'\n",
    "        else:\n",
    "            formula_simple = formula_simple + ' + ' + 'C(' + item + ')'\n",
    "        counter = counter + 1\n",
    "        \n",
    "counter = 0\n",
    "formula_2verify = 'Attrition ~ '\n",
    "for item in IBMData.columns.to_list():\n",
    "    if(item is not 'Attrition' and counter == 0):\n",
    "        formula_2verify = formula_2verify + item\n",
    "    else:\n",
    "        formula_2verify = formula_2verify + ' + ' + item\n",
    "    counter = counter + 1    \n",
    "        \n",
    "print('Formula to be used for logistic regression:\\n')\n",
    "print(formula)\n",
    "print()\n",
    "print(formula_simple)\n",
    "print()\n",
    "print(formula_2verify)"
   ]
  },
  {
   "cell_type": "code",
   "execution_count": 108,
   "metadata": {},
   "outputs": [
    {
     "name": "stdout",
     "output_type": "stream",
     "text": [
      "Warning: Maximum number of iterations has been exceeded.\n",
      "         Current function value: 0.290094\n",
      "         Iterations: 35\n"
     ]
    }
   ],
   "source": [
    "# Now Implement the logistic regression model \n",
    "\n",
    "logit_model = smf.logit(formula_simple, IBMData_train).fit(max_iter = 5000)"
   ]
  },
  {
   "cell_type": "code",
   "execution_count": 109,
   "metadata": {},
   "outputs": [
    {
     "name": "stdout",
     "output_type": "stream",
     "text": [
      "Marginal Effects of the Explanatory Variables\n",
      "        Logit Marginal Effects       \n",
      "=====================================\n",
      "Dep. Variable:              Attrition\n",
      "Method:                          dydx\n",
      "At:                           overall\n",
      "==================================================================================================\n",
      "                                    dy/dx    std err          z      P>|z|      [0.025      0.975]\n",
      "--------------------------------------------------------------------------------------------------\n",
      "C(BusinessTravel)[T.Freq]          0.1768      0.044      4.028      0.000       0.091       0.263\n",
      "C(BusinessTravel)[T.Rare]          0.1037      0.041      2.502      0.012       0.022       0.185\n",
      "C(Department)[T.R&D]               1.5368    547.741      0.003      0.998   -1072.015    1075.088\n",
      "C(Department)[T.Sales]             1.4777    547.741      0.003      0.998   -1072.074    1075.029\n",
      "C(EducationField)[T.LifeSc]       -0.0907      0.079     -1.153      0.249      -0.245       0.063\n",
      "C(EducationField)[T.Marketing]    -0.0674      0.084     -0.803      0.422      -0.232       0.097\n",
      "C(EducationField)[T.Medical]      -0.1064      0.079     -1.348      0.178      -0.261       0.048\n",
      "C(EducationField)[T.Other]        -0.1009      0.085     -1.189      0.234      -0.267       0.065\n",
      "C(EducationField)[T.Technical]     0.0024      0.080      0.030      0.976      -0.155       0.160\n",
      "C(Gender)[T.Male]                  0.0356      0.019      1.862      0.063      -0.002       0.073\n",
      "C(JobRole)[T.RoleHR]               1.6629    547.741      0.003      0.998   -1071.889    1075.215\n",
      "C(JobRole)[T.LabTech]              0.1494      0.050      2.958      0.003       0.050       0.248\n",
      "C(JobRole)[T.Manager]              0.0271      0.088      0.308      0.758      -0.145       0.199\n",
      "C(JobRole)[T.ManufDir]             0.0168      0.056      0.302      0.763      -0.092       0.126\n",
      "C(JobRole)[T.ResDir]              -0.0907      0.094     -0.966      0.334      -0.275       0.093\n",
      "C(JobRole)[T.Scientist]            0.0515      0.052      0.981      0.326      -0.051       0.154\n",
      "C(JobRole)[T.SalexExec]            0.1430      0.125      1.144      0.253      -0.102       0.388\n",
      "C(JobRole)[T.SalesRep]             0.2782      0.128      2.169      0.030       0.027       0.530\n",
      "C(MaritalStatus)[T.Married]        0.0477      0.028      1.712      0.087      -0.007       0.102\n",
      "C(MaritalStatus)[T.Single]         0.1294      0.036      3.636      0.000       0.060       0.199\n",
      "C(OverTime)[T.Yes]                 0.1700      0.018      9.626      0.000       0.135       0.205\n",
      "Age                               -0.0016      0.001     -1.171      0.242      -0.004       0.001\n",
      "DailyRate                      -5.354e-05   2.33e-05     -2.298      0.022   -9.92e-05   -7.88e-06\n",
      "DistanceFromHome                   0.0049      0.001      4.571      0.000       0.003       0.007\n",
      "Education                         -0.0061      0.009     -0.680      0.497      -0.024       0.011\n",
      "EnvironmentSatisfaction           -0.0376      0.008     -4.421      0.000      -0.054      -0.021\n",
      "HourlyRate                     -1.836e-05      0.000     -0.040      0.968      -0.001       0.001\n",
      "JobInvolvement                    -0.0464      0.012     -3.712      0.000      -0.071      -0.022\n",
      "JobLevel                          -0.0192      0.032     -0.606      0.544      -0.081       0.043\n",
      "JobSatisfaction                   -0.0381      0.008     -4.603      0.000      -0.054      -0.022\n",
      "MonthlyIncome                   7.276e-06   8.19e-06      0.889      0.374   -8.77e-06    2.33e-05\n",
      "MonthlyRate                     1.019e-08   1.31e-06      0.008      0.994   -2.56e-06    2.58e-06\n",
      "NumCompaniesWorked                 0.0165      0.004      4.211      0.000       0.009       0.024\n",
      "PercentSalaryHike                 -0.0051      0.004     -1.237      0.216      -0.013       0.003\n",
      "PerformanceRating                  0.0550      0.041      1.332      0.183      -0.026       0.136\n",
      "RelationshipSatisfaction          -0.0173      0.009     -2.033      0.042      -0.034      -0.001\n",
      "StockOptionLevel                  -0.0014      0.016     -0.088      0.930      -0.032       0.029\n",
      "TotalWorkingYears                 -0.0063      0.003     -2.119      0.034      -0.012      -0.000\n",
      "TrainingTimesLastYear             -0.0091      0.007     -1.218      0.223      -0.024       0.006\n",
      "WorkLifeBalance                   -0.0319      0.013     -2.527      0.011      -0.057      -0.007\n",
      "YearsAtCompany                     0.0048      0.004      1.206      0.228      -0.003       0.013\n",
      "YearsInCurrentRole                -0.0142      0.005     -2.978      0.003      -0.024      -0.005\n",
      "YearsSinceLastPromotion            0.0156      0.004      3.532      0.000       0.007       0.024\n",
      "YearsWithCurrManager              -0.0045      0.005     -0.866      0.386      -0.015       0.006\n",
      "==================================================================================================\n"
     ]
    }
   ],
   "source": [
    "# Getting the marginal effects of the explanatory variables\n",
    "\n",
    "print('Marginal Effects of the Explanatory Variables')\n",
    "AME = logit_model.get_margeff(at = 'overall', method = 'dydx')\n",
    "print(AME.summary())"
   ]
  },
  {
   "cell_type": "code",
   "execution_count": 110,
   "metadata": {},
   "outputs": [
    {
     "name": "stdout",
     "output_type": "stream",
     "text": [
      "Baseline Estimates from Logit Model:\n",
      "\n"
     ]
    },
    {
     "data": {
      "text/html": [
       "<table class=\"simpletable\">\n",
       "<caption>Logit Regression Results</caption>\n",
       "<tr>\n",
       "  <th>Dep. Variable:</th>       <td>Attrition</td>    <th>  No. Observations:  </th>  <td>  1102</td>  \n",
       "</tr>\n",
       "<tr>\n",
       "  <th>Model:</th>                 <td>Logit</td>      <th>  Df Residuals:      </th>  <td>  1057</td>  \n",
       "</tr>\n",
       "<tr>\n",
       "  <th>Method:</th>                 <td>MLE</td>       <th>  Df Model:          </th>  <td>    44</td>  \n",
       "</tr>\n",
       "<tr>\n",
       "  <th>Date:</th>            <td>Tue, 09 Mar 2021</td> <th>  Pseudo R-squ.:     </th>  <td>0.3417</td>  \n",
       "</tr>\n",
       "<tr>\n",
       "  <th>Time:</th>                <td>19:51:21</td>     <th>  Log-Likelihood:    </th> <td> -319.68</td> \n",
       "</tr>\n",
       "<tr>\n",
       "  <th>converged:</th>             <td>False</td>      <th>  LL-Null:           </th> <td> -485.64</td> \n",
       "</tr>\n",
       "<tr>\n",
       "  <th>Covariance Type:</th>     <td>nonrobust</td>    <th>  LLR p-value:       </th> <td>7.850e-46</td>\n",
       "</tr>\n",
       "</table>\n",
       "<table class=\"simpletable\">\n",
       "<tr>\n",
       "                 <td></td>                   <th>coef</th>     <th>std err</th>      <th>z</th>      <th>P>|z|</th>  <th>[0.025</th>    <th>0.975]</th>  \n",
       "</tr>\n",
       "<tr>\n",
       "  <th>Intercept</th>                      <td>  -16.7927</td> <td> 6162.895</td> <td>   -0.003</td> <td> 0.998</td> <td>-1.21e+04</td> <td> 1.21e+04</td>\n",
       "</tr>\n",
       "<tr>\n",
       "  <th>C(BusinessTravel)[T.Freq]</th>      <td>    1.9898</td> <td>    0.504</td> <td>    3.950</td> <td> 0.000</td> <td>    1.002</td> <td>    2.977</td>\n",
       "</tr>\n",
       "<tr>\n",
       "  <th>C(BusinessTravel)[T.Rare]</th>      <td>    1.1666</td> <td>    0.469</td> <td>    2.485</td> <td> 0.013</td> <td>    0.246</td> <td>    2.087</td>\n",
       "</tr>\n",
       "<tr>\n",
       "  <th>C(Department)[T.R&D]</th>           <td>   17.2909</td> <td> 6162.895</td> <td>    0.003</td> <td> 0.998</td> <td>-1.21e+04</td> <td> 1.21e+04</td>\n",
       "</tr>\n",
       "<tr>\n",
       "  <th>C(Department)[T.Sales]</th>         <td>   16.6258</td> <td> 6162.895</td> <td>    0.003</td> <td> 0.998</td> <td>-1.21e+04</td> <td> 1.21e+04</td>\n",
       "</tr>\n",
       "<tr>\n",
       "  <th>C(EducationField)[T.LifeSc]</th>    <td>   -1.0206</td> <td>    0.888</td> <td>   -1.150</td> <td> 0.250</td> <td>   -2.760</td> <td>    0.719</td>\n",
       "</tr>\n",
       "<tr>\n",
       "  <th>C(EducationField)[T.Marketing]</th> <td>   -0.7587</td> <td>    0.946</td> <td>   -0.802</td> <td> 0.423</td> <td>   -2.613</td> <td>    1.095</td>\n",
       "</tr>\n",
       "<tr>\n",
       "  <th>C(EducationField)[T.Medical]</th>   <td>   -1.1969</td> <td>    0.891</td> <td>   -1.343</td> <td> 0.179</td> <td>   -2.944</td> <td>    0.550</td>\n",
       "</tr>\n",
       "<tr>\n",
       "  <th>C(EducationField)[T.Other]</th>     <td>   -1.1348</td> <td>    0.957</td> <td>   -1.185</td> <td> 0.236</td> <td>   -3.011</td> <td>    0.742</td>\n",
       "</tr>\n",
       "<tr>\n",
       "  <th>C(EducationField)[T.Technical]</th> <td>    0.0266</td> <td>    0.903</td> <td>    0.030</td> <td> 0.976</td> <td>   -1.742</td> <td>    1.796</td>\n",
       "</tr>\n",
       "<tr>\n",
       "  <th>C(Gender)[T.Male]</th>              <td>    0.4004</td> <td>    0.216</td> <td>    1.852</td> <td> 0.064</td> <td>   -0.023</td> <td>    0.824</td>\n",
       "</tr>\n",
       "<tr>\n",
       "  <th>C(JobRole)[T.RoleHR]</th>           <td>   18.7100</td> <td> 6162.895</td> <td>    0.003</td> <td> 0.998</td> <td>-1.21e+04</td> <td> 1.21e+04</td>\n",
       "</tr>\n",
       "<tr>\n",
       "  <th>C(JobRole)[T.LabTech]</th>          <td>    1.6809</td> <td>    0.575</td> <td>    2.921</td> <td> 0.003</td> <td>    0.553</td> <td>    2.809</td>\n",
       "</tr>\n",
       "<tr>\n",
       "  <th>C(JobRole)[T.Manager]</th>          <td>    0.3051</td> <td>    0.990</td> <td>    0.308</td> <td> 0.758</td> <td>   -1.634</td> <td>    2.245</td>\n",
       "</tr>\n",
       "<tr>\n",
       "  <th>C(JobRole)[T.ManufDir]</th>         <td>    0.1889</td> <td>    0.626</td> <td>    0.302</td> <td> 0.763</td> <td>   -1.039</td> <td>    1.417</td>\n",
       "</tr>\n",
       "<tr>\n",
       "  <th>C(JobRole)[T.ResDir]</th>           <td>   -1.0210</td> <td>    1.058</td> <td>   -0.965</td> <td> 0.334</td> <td>   -3.094</td> <td>    1.052</td>\n",
       "</tr>\n",
       "<tr>\n",
       "  <th>C(JobRole)[T.Scientist]</th>        <td>    0.5797</td> <td>    0.591</td> <td>    0.980</td> <td> 0.327</td> <td>   -0.580</td> <td>    1.739</td>\n",
       "</tr>\n",
       "<tr>\n",
       "  <th>C(JobRole)[T.SalexExec]</th>        <td>    1.6090</td> <td>    1.409</td> <td>    1.142</td> <td> 0.253</td> <td>   -1.153</td> <td>    4.371</td>\n",
       "</tr>\n",
       "<tr>\n",
       "  <th>C(JobRole)[T.SalesRep]</th>         <td>    3.1301</td> <td>    1.455</td> <td>    2.152</td> <td> 0.031</td> <td>    0.279</td> <td>    5.981</td>\n",
       "</tr>\n",
       "<tr>\n",
       "  <th>C(MaritalStatus)[T.Married]</th>    <td>    0.5370</td> <td>    0.315</td> <td>    1.705</td> <td> 0.088</td> <td>   -0.080</td> <td>    1.154</td>\n",
       "</tr>\n",
       "<tr>\n",
       "  <th>C(MaritalStatus)[T.Single]</th>     <td>    1.4556</td> <td>    0.409</td> <td>    3.559</td> <td> 0.000</td> <td>    0.654</td> <td>    2.257</td>\n",
       "</tr>\n",
       "<tr>\n",
       "  <th>C(OverTime)[T.Yes]</th>             <td>    1.9128</td> <td>    0.225</td> <td>    8.512</td> <td> 0.000</td> <td>    1.472</td> <td>    2.353</td>\n",
       "</tr>\n",
       "<tr>\n",
       "  <th>Age</th>                            <td>   -0.0185</td> <td>    0.016</td> <td>   -1.168</td> <td> 0.243</td> <td>   -0.049</td> <td>    0.013</td>\n",
       "</tr>\n",
       "<tr>\n",
       "  <th>DailyRate</th>                      <td>   -0.0006</td> <td>    0.000</td> <td>   -2.282</td> <td> 0.023</td> <td>   -0.001</td> <td>-8.49e-05</td>\n",
       "</tr>\n",
       "<tr>\n",
       "  <th>DistanceFromHome</th>               <td>    0.0548</td> <td>    0.012</td> <td>    4.443</td> <td> 0.000</td> <td>    0.031</td> <td>    0.079</td>\n",
       "</tr>\n",
       "<tr>\n",
       "  <th>Education</th>                      <td>   -0.0681</td> <td>    0.100</td> <td>   -0.679</td> <td> 0.497</td> <td>   -0.265</td> <td>    0.128</td>\n",
       "</tr>\n",
       "<tr>\n",
       "  <th>EnvironmentSatisfaction</th>        <td>   -0.4226</td> <td>    0.098</td> <td>   -4.297</td> <td> 0.000</td> <td>   -0.615</td> <td>   -0.230</td>\n",
       "</tr>\n",
       "<tr>\n",
       "  <th>HourlyRate</th>                     <td>   -0.0002</td> <td>    0.005</td> <td>   -0.040</td> <td> 0.968</td> <td>   -0.010</td> <td>    0.010</td>\n",
       "</tr>\n",
       "<tr>\n",
       "  <th>JobInvolvement</th>                 <td>   -0.5216</td> <td>    0.144</td> <td>   -3.626</td> <td> 0.000</td> <td>   -0.804</td> <td>   -0.240</td>\n",
       "</tr>\n",
       "<tr>\n",
       "  <th>JobLevel</th>                       <td>   -0.2165</td> <td>    0.357</td> <td>   -0.606</td> <td> 0.545</td> <td>   -0.917</td> <td>    0.484</td>\n",
       "</tr>\n",
       "<tr>\n",
       "  <th>JobSatisfaction</th>                <td>   -0.4287</td> <td>    0.096</td> <td>   -4.462</td> <td> 0.000</td> <td>   -0.617</td> <td>   -0.240</td>\n",
       "</tr>\n",
       "<tr>\n",
       "  <th>MonthlyIncome</th>                  <td> 8.187e-05</td> <td> 9.23e-05</td> <td>    0.887</td> <td> 0.375</td> <td> -9.9e-05</td> <td>    0.000</td>\n",
       "</tr>\n",
       "<tr>\n",
       "  <th>MonthlyRate</th>                    <td> 1.146e-07</td> <td> 1.47e-05</td> <td>    0.008</td> <td> 0.994</td> <td>-2.88e-05</td> <td>  2.9e-05</td>\n",
       "</tr>\n",
       "<tr>\n",
       "  <th>NumCompaniesWorked</th>             <td>    0.1861</td> <td>    0.045</td> <td>    4.100</td> <td> 0.000</td> <td>    0.097</td> <td>    0.275</td>\n",
       "</tr>\n",
       "<tr>\n",
       "  <th>PercentSalaryHike</th>              <td>   -0.0573</td> <td>    0.046</td> <td>   -1.236</td> <td> 0.217</td> <td>   -0.148</td> <td>    0.034</td>\n",
       "</tr>\n",
       "<tr>\n",
       "  <th>PerformanceRating</th>              <td>    0.6193</td> <td>    0.466</td> <td>    1.329</td> <td> 0.184</td> <td>   -0.294</td> <td>    1.532</td>\n",
       "</tr>\n",
       "<tr>\n",
       "  <th>RelationshipSatisfaction</th>       <td>   -0.1949</td> <td>    0.097</td> <td>   -2.018</td> <td> 0.044</td> <td>   -0.384</td> <td>   -0.006</td>\n",
       "</tr>\n",
       "<tr>\n",
       "  <th>StockOptionLevel</th>               <td>   -0.0155</td> <td>    0.175</td> <td>   -0.088</td> <td> 0.930</td> <td>   -0.359</td> <td>    0.328</td>\n",
       "</tr>\n",
       "<tr>\n",
       "  <th>TotalWorkingYears</th>              <td>   -0.0713</td> <td>    0.034</td> <td>   -2.104</td> <td> 0.035</td> <td>   -0.138</td> <td>   -0.005</td>\n",
       "</tr>\n",
       "<tr>\n",
       "  <th>TrainingTimesLastYear</th>          <td>   -0.1022</td> <td>    0.084</td> <td>   -1.215</td> <td> 0.224</td> <td>   -0.267</td> <td>    0.063</td>\n",
       "</tr>\n",
       "<tr>\n",
       "  <th>WorkLifeBalance</th>                <td>   -0.3591</td> <td>    0.143</td> <td>   -2.507</td> <td> 0.012</td> <td>   -0.640</td> <td>   -0.078</td>\n",
       "</tr>\n",
       "<tr>\n",
       "  <th>YearsAtCompany</th>                 <td>    0.0540</td> <td>    0.045</td> <td>    1.204</td> <td> 0.228</td> <td>   -0.034</td> <td>    0.142</td>\n",
       "</tr>\n",
       "<tr>\n",
       "  <th>YearsInCurrentRole</th>             <td>   -0.1598</td> <td>    0.054</td> <td>   -2.947</td> <td> 0.003</td> <td>   -0.266</td> <td>   -0.054</td>\n",
       "</tr>\n",
       "<tr>\n",
       "  <th>YearsSinceLastPromotion</th>        <td>    0.1760</td> <td>    0.051</td> <td>    3.478</td> <td> 0.001</td> <td>    0.077</td> <td>    0.275</td>\n",
       "</tr>\n",
       "<tr>\n",
       "  <th>YearsWithCurrManager</th>           <td>   -0.0505</td> <td>    0.058</td> <td>   -0.865</td> <td> 0.387</td> <td>   -0.165</td> <td>    0.064</td>\n",
       "</tr>\n",
       "</table>"
      ],
      "text/plain": [
       "<class 'statsmodels.iolib.summary.Summary'>\n",
       "\"\"\"\n",
       "                           Logit Regression Results                           \n",
       "==============================================================================\n",
       "Dep. Variable:              Attrition   No. Observations:                 1102\n",
       "Model:                          Logit   Df Residuals:                     1057\n",
       "Method:                           MLE   Df Model:                           44\n",
       "Date:                Tue, 09 Mar 2021   Pseudo R-squ.:                  0.3417\n",
       "Time:                        19:51:21   Log-Likelihood:                -319.68\n",
       "converged:                      False   LL-Null:                       -485.64\n",
       "Covariance Type:            nonrobust   LLR p-value:                 7.850e-46\n",
       "==================================================================================================\n",
       "                                     coef    std err          z      P>|z|      [0.025      0.975]\n",
       "--------------------------------------------------------------------------------------------------\n",
       "Intercept                        -16.7927   6162.895     -0.003      0.998   -1.21e+04    1.21e+04\n",
       "C(BusinessTravel)[T.Freq]          1.9898      0.504      3.950      0.000       1.002       2.977\n",
       "C(BusinessTravel)[T.Rare]          1.1666      0.469      2.485      0.013       0.246       2.087\n",
       "C(Department)[T.R&D]              17.2909   6162.895      0.003      0.998   -1.21e+04    1.21e+04\n",
       "C(Department)[T.Sales]            16.6258   6162.895      0.003      0.998   -1.21e+04    1.21e+04\n",
       "C(EducationField)[T.LifeSc]       -1.0206      0.888     -1.150      0.250      -2.760       0.719\n",
       "C(EducationField)[T.Marketing]    -0.7587      0.946     -0.802      0.423      -2.613       1.095\n",
       "C(EducationField)[T.Medical]      -1.1969      0.891     -1.343      0.179      -2.944       0.550\n",
       "C(EducationField)[T.Other]        -1.1348      0.957     -1.185      0.236      -3.011       0.742\n",
       "C(EducationField)[T.Technical]     0.0266      0.903      0.030      0.976      -1.742       1.796\n",
       "C(Gender)[T.Male]                  0.4004      0.216      1.852      0.064      -0.023       0.824\n",
       "C(JobRole)[T.RoleHR]              18.7100   6162.895      0.003      0.998   -1.21e+04    1.21e+04\n",
       "C(JobRole)[T.LabTech]              1.6809      0.575      2.921      0.003       0.553       2.809\n",
       "C(JobRole)[T.Manager]              0.3051      0.990      0.308      0.758      -1.634       2.245\n",
       "C(JobRole)[T.ManufDir]             0.1889      0.626      0.302      0.763      -1.039       1.417\n",
       "C(JobRole)[T.ResDir]              -1.0210      1.058     -0.965      0.334      -3.094       1.052\n",
       "C(JobRole)[T.Scientist]            0.5797      0.591      0.980      0.327      -0.580       1.739\n",
       "C(JobRole)[T.SalexExec]            1.6090      1.409      1.142      0.253      -1.153       4.371\n",
       "C(JobRole)[T.SalesRep]             3.1301      1.455      2.152      0.031       0.279       5.981\n",
       "C(MaritalStatus)[T.Married]        0.5370      0.315      1.705      0.088      -0.080       1.154\n",
       "C(MaritalStatus)[T.Single]         1.4556      0.409      3.559      0.000       0.654       2.257\n",
       "C(OverTime)[T.Yes]                 1.9128      0.225      8.512      0.000       1.472       2.353\n",
       "Age                               -0.0185      0.016     -1.168      0.243      -0.049       0.013\n",
       "DailyRate                         -0.0006      0.000     -2.282      0.023      -0.001   -8.49e-05\n",
       "DistanceFromHome                   0.0548      0.012      4.443      0.000       0.031       0.079\n",
       "Education                         -0.0681      0.100     -0.679      0.497      -0.265       0.128\n",
       "EnvironmentSatisfaction           -0.4226      0.098     -4.297      0.000      -0.615      -0.230\n",
       "HourlyRate                        -0.0002      0.005     -0.040      0.968      -0.010       0.010\n",
       "JobInvolvement                    -0.5216      0.144     -3.626      0.000      -0.804      -0.240\n",
       "JobLevel                          -0.2165      0.357     -0.606      0.545      -0.917       0.484\n",
       "JobSatisfaction                   -0.4287      0.096     -4.462      0.000      -0.617      -0.240\n",
       "MonthlyIncome                   8.187e-05   9.23e-05      0.887      0.375    -9.9e-05       0.000\n",
       "MonthlyRate                     1.146e-07   1.47e-05      0.008      0.994   -2.88e-05     2.9e-05\n",
       "NumCompaniesWorked                 0.1861      0.045      4.100      0.000       0.097       0.275\n",
       "PercentSalaryHike                 -0.0573      0.046     -1.236      0.217      -0.148       0.034\n",
       "PerformanceRating                  0.6193      0.466      1.329      0.184      -0.294       1.532\n",
       "RelationshipSatisfaction          -0.1949      0.097     -2.018      0.044      -0.384      -0.006\n",
       "StockOptionLevel                  -0.0155      0.175     -0.088      0.930      -0.359       0.328\n",
       "TotalWorkingYears                 -0.0713      0.034     -2.104      0.035      -0.138      -0.005\n",
       "TrainingTimesLastYear             -0.1022      0.084     -1.215      0.224      -0.267       0.063\n",
       "WorkLifeBalance                   -0.3591      0.143     -2.507      0.012      -0.640      -0.078\n",
       "YearsAtCompany                     0.0540      0.045      1.204      0.228      -0.034       0.142\n",
       "YearsInCurrentRole                -0.1598      0.054     -2.947      0.003      -0.266      -0.054\n",
       "YearsSinceLastPromotion            0.1760      0.051      3.478      0.001       0.077       0.275\n",
       "YearsWithCurrManager              -0.0505      0.058     -0.865      0.387      -0.165       0.064\n",
       "==================================================================================================\n",
       "\"\"\""
      ]
     },
     "execution_count": 110,
     "metadata": {},
     "output_type": "execute_result"
    }
   ],
   "source": [
    "print('Baseline Estimates from Logit Model:\\n')\n",
    "logit_model.summary()"
   ]
  },
  {
   "cell_type": "markdown",
   "metadata": {},
   "source": [
    "The model implemented above clearly does not converge. This is possibly because of collinearity in the\n",
    "features being used or the large number of categorical variables being used. To get around this problem \n",
    "we will use the Recursive Feature Elimination (possibly with Cross-Validation) method to select among the \n",
    "set of all features, and then run a logistic regression on the final list of features selected. "
   ]
  },
  {
   "cell_type": "code",
   "execution_count": 111,
   "metadata": {},
   "outputs": [],
   "source": [
    "# Use the following algorithm for RFE\n",
    "# First one hot encode the categorical variables and then use logistic regression along with RFE to select features\n",
    "# Then even if one of the levels of any categorical variable is included, then select all of the levels for that categorical variable\n",
    "# In RFE we need to select the number of variables to keep, so iterate over the number of variables (including one hot encoded dummies)\n",
    "# Then show the abs(log likelihood value)  \n",
    "\n",
    "def RFE_Logit(Xtrain, Ytrain, include):\n",
    "    \n",
    "    models = []\n",
    "    selected_features = []\n",
    "    num_features_selected = []\n",
    "    \n",
    "    for i in np.arange(1, Xtrain.shape[1]+1):\n",
    "        logreg = LogisticRegression()\n",
    "        rfe = RFE(estimator = logreg, n_features_to_select = i)\n",
    "        rfe = rfe.fit(Xtrain, Ytrain)\n",
    "        cols2select = Xtrain.columns[rfe.support_].to_list()\n",
    "    \n",
    "        if include:\n",
    "            # Take the set of features chosen and then include all the levels for any of the features chosen\n",
    "            chosencols = list(set([item.split('_')[0] for item in cols2select]))\n",
    "            cols2select = [col for col in Xtrain.columns.to_list() for item in chosencols if col.startswith(item+'_') ]\n",
    "   \n",
    "        logit_model = sm.Logit(Ytrain, Xtrain[cols2select]).fit(disp = 0)\n",
    "    \n",
    "        models.append(logit_model)\n",
    "        selected_features.append(cols2select)\n",
    "        num_features_selected.append(len(cols2select))\n",
    "        \n",
    "    return models, selected_features, num_features_selected    "
   ]
  },
  {
   "cell_type": "code",
   "execution_count": 112,
   "metadata": {},
   "outputs": [],
   "source": [
    "# Now training the model with no extra feature inclusion\n",
    "\n",
    "models, selected_features, _ = RFE_Logit(Xtrain, Ytrain, False)"
   ]
  },
  {
   "cell_type": "code",
   "execution_count": 113,
   "metadata": {
    "scrolled": false
   },
   "outputs": [
    {
     "data": {
      "image/png": "[encoded data removed]",
      "text/plain": [
       "<Figure size 432x288 with 1 Axes>"
      ]
     },
     "metadata": {
      "needs_background": "light"
     },
     "output_type": "display_data"
    },
    {
     "name": "stdout",
     "output_type": "stream",
     "text": [
      "Features used in the converged model with the highest log-likelihood value:\n",
      "\n",
      "Index(['DistanceFromHome', 'Education', 'EnvironmentSatisfaction',\n",
      "       'JobInvolvement', 'JobLevel', 'JobSatisfaction', 'NumCompaniesWorked',\n",
      "       'PercentSalaryHike', 'PerformanceRating', 'RelationshipSatisfaction',\n",
      "       'TotalWorkingYears', 'TrainingTimesLastYear', 'WorkLifeBalance',\n",
      "       'YearsInCurrentRole', 'YearsSinceLastPromotion', 'BusinessTravel_No',\n",
      "       'BusinessTravel_Freq', 'BusinessTravel_Rare', 'Department_HR',\n",
      "       'Department_R&D', 'Department_Sales', 'EducationField_EducHR',\n",
      "       'EducationField_LifeSc', 'EducationField_Marketing',\n",
      "       'EducationField_Medical', 'EducationField_Other',\n",
      "       'EducationField_Technical', 'Gender_Female', 'Gender_Male',\n",
      "       'JobRole_HealthRep', 'JobRole_RoleHR', 'JobRole_LabTech',\n",
      "       'JobRole_Manager', 'JobRole_ManufDir', 'JobRole_ResDir',\n",
      "       'JobRole_SalexExec', 'JobRole_SalesRep', 'MaritalStatus_Divorced',\n",
      "       'MaritalStatus_Married', 'MaritalStatus_Single', 'OverTime_No',\n",
      "       'OverTime_Yes'],\n",
      "      dtype='object')\n"
     ]
    }
   ],
   "source": [
    "# Now plot the log likelhood value against the number of features selected and then choose the one with the highest\n",
    "\n",
    "num_features = np.arange(1, Xtrain.shape[1]+1)\n",
    "loglike = [logitmodel.llf for logitmodel in models]\n",
    "convergence = [logitmodel.mle_retvals['converged'] for logitmodel in models]\n",
    "newframe = pd.DataFrame({'num_features':num_features, 'loglike':loglike, 'convergence':convergence})\n",
    "label2color = {True:'green', False:'red'}\n",
    "newframe['color'] = newframe['convergence'].apply(lambda convergence: label2color[convergence])\n",
    "\n",
    "# Now iterate through the column 'convergence' and then select the breakpoints where convergence changes\n",
    "breakpoints = []\n",
    "start = 0\n",
    "for i in np.arange(len(newframe)-1):\n",
    "    if(newframe.iloc[i,2]!=newframe.iloc[i+1,2]):\n",
    "        breakpoints.append((start, i, newframe.iloc[i,3]))\n",
    "        start = i + 1\n",
    "breakpoints.append((start, i+1, newframe.iloc[start,3]))\n",
    "\n",
    "fig, ax = plt.subplots()\n",
    "for (start, end, color) in breakpoints:\n",
    "    if start > 0:\n",
    "        start = start - 1\n",
    "    ax.plot(newframe.num_features[start:end+1], newframe.loglike[start:end+1], color = color, label = '')\n",
    "ax.set_title('Log-Likelihood Value v/s number of features\\n [Green Indicates convergence]')\n",
    "ax.set_xlabel('Number of features')\n",
    "ax.set_ylabel('Log-Likelihood')\n",
    "plt.show()        \n",
    "\n",
    "# # Now select the model with highest log-likelihood value along with convergence\n",
    "optimalindex = newframe.query('convergence == True').index.to_list()[len(newframe.query('convergence == True'))-1]\n",
    "\n",
    "# Now print the features used for the optimal model selected\n",
    "print('Features used in the converged model with the highest log-likelihood value:\\n')\n",
    "print(models[optimalindex].params.index)"
   ]
  },
  {
   "cell_type": "code",
   "execution_count": 114,
   "metadata": {},
   "outputs": [],
   "source": [
    "# Now conduct the regression with complexity of feature inclusion \n",
    "\n",
    "# models, selected_features, num_features_selected = RFE_Logit(Xtrain, Ytrain, True)"
   ]
  },
  {
   "cell_type": "code",
   "execution_count": 115,
   "metadata": {},
   "outputs": [],
   "source": [
    "# num_features = np.arange(1, Xtrain.shape[1]+1)\n",
    "# loglike = [logitmodel.llf for logitmodel in models]\n",
    "# convergence = [logitmodel.mle_retvals['converged'] for logitmodel in models]\n",
    "# newframe = pd.DataFrame({'num_features':num_features, 'loglike':loglike, 'convergence':convergence})\n",
    "# label2color = {True:'green', False:'red'}\n",
    "# newframe['color'] = newframe['convergence'].apply(lambda convergence: label2color[convergence])\n",
    "\n",
    "# # Now iterate through the column 'convergence' and then select the breakpoints where convergence changes\n",
    "# breakpoints = []\n",
    "# start = 0\n",
    "# for i in np.arange(len(newframe)-1):\n",
    "#     if(newframe.iloc[i,2]!=newframe.iloc[i+1,2]):\n",
    "#         breakpoints.append((start, i, newframe.iloc[i,3]))\n",
    "#         start = i + 1\n",
    "# breakpoints.append((start, i+1, newframe.iloc[start,3]))\n",
    "\n",
    "# fig, ax = plt.subplots()\n",
    "# for (start, end, color) in breakpoints:\n",
    "#     if start > 0:\n",
    "#         start = start - 1\n",
    "#     ax.plot(newframe.num_features[start:end+1], newframe.loglike[start:end+1], color = color, label = '')\n",
    "# ax.set_title('Log-Likelihood Value v/s number of features\\n [Green Indicates convergence]')\n",
    "# ax.set_xlabel('Number of features')\n",
    "# ax.set_ylabel('Log-Likelihood')\n",
    "# axd = ax.twinx()\n",
    "# axd.plot(newframe.num_features, num_features_selected, color = 'blue')\n",
    "# axd.plot(newframe.num_features, newframe.num_features, color = 'black', linestyle = 'dashed')\n",
    "# axd.set_ylabel('Number of Features Actually Selected')\n",
    "# plt.show()        \n",
    "\n",
    "# # # Now select the model with highest log-likelihood value along with convergence\n",
    "# optimalindex = newframe.query('convergence == True').index.to_list()[len(newframe.query('convergence == True'))-1]\n",
    "\n",
    "# # Now print the features used for the optimal model selected\n",
    "# print('Features used in the converged model with the highest log-likelihood value:\\n')\n",
    "# print(models[optimalindex].summary())"
   ]
  },
  {
   "cell_type": "code",
   "execution_count": 120,
   "metadata": {},
   "outputs": [],
   "source": [
    "## Now we turn to prediction using the scikit-learn LogisticRegression estimator\n",
    "# For this we go back to using the set of optimal features selected by the RFE \n",
    "\n",
    "logreg = LogisticRegression().fit(Xtrain[selected_features[optimalindex]], Ytrain)"
   ]
  },
  {
   "cell_type": "code",
   "execution_count": 121,
   "metadata": {},
   "outputs": [],
   "source": [
    "Ypred = logreg.predict(Xtest[selected_features[optimalindex]])"
   ]
  },
  {
   "cell_type": "code",
   "execution_count": 129,
   "metadata": {},
   "outputs": [
    {
     "name": "stdout",
     "output_type": "stream",
     "text": [
      "Accuracy of prediction: 86.685%\n",
      "Precision of prediction: 66.667%\n",
      "Recall of prediction: 36.667%\n",
      "F1 Score of prediction: 0.473\n",
      "ROC-AUC Score of prediction: 0.665\n"
     ]
    },
    {
     "data": {
      "image/png": "[encoded data removed]",
      "text/plain": [
       "<Figure size 432x288 with 1 Axes>"
      ]
     },
     "metadata": {
      "needs_background": "light"
     },
     "output_type": "display_data"
    }
   ],
   "source": [
    "# Now plot some of the metrics of the prediction\n",
    "\n",
    "print('Accuracy of prediction: {:2.3%}'.format(accuracy_score(Ytest, Ypred)))\n",
    "print('Precision of prediction: {:2.3%}'.format(precision_score(Ytest, Ypred)))\n",
    "print('Recall of prediction: {:2.3%}'.format(recall_score(Ytest, Ypred)))\n",
    "print('F1 Score of prediction: {:1.3}'.format(f1_score(Ytest, Ypred)))\n",
    "print('ROC-AUC Score of prediction: {:1.3}'.format(roc_auc_score(Ytest, Ypred)))\n",
    "\n",
    "# Now plot the roc_auc_curve\n",
    "fpr, tpr, threshold = roc_curve(Ytest, logreg.predict_proba(Xtest[selected_features[optimalindex]])[:,1])\n",
    "\n",
    "plt.figure()\n",
    "plt.plot(fpr, tpr, label = 'Logistic Regression (area = %0.2f)' % roc_auc_score(Ytest, Ypred))\n",
    "plt.plot([0, 1], [0, 1], 'r--')\n",
    "plt.xlim([0.0, 1.0])\n",
    "plt.ylim([0.0, 1.05])\n",
    "plt.xlabel('False Positive Rate')\n",
    "plt.ylabel('True Positive Rate')\n",
    "plt.title('Receiver operating characteristic')\n",
    "plt.legend(loc=\"lower right\")\n",
    "plt.show()"
   ]
  },
  {
   "cell_type": "code",
   "execution_count": 132,
   "metadata": {},
   "outputs": [
    {
     "name": "stdout",
     "output_type": "stream",
     "text": [
      "Accuracy of prediction: 83.696%\n",
      "Precision of prediction: 50.000%\n",
      "Recall of prediction: 3.333%\n",
      "F1 Score of prediction: 0.0625\n",
      "ROC-AUC Score of prediction: 0.513\n"
     ]
    },
    {
     "data": {
      "image/png": "[encoded data removed]",
      "text/plain": [
       "<Figure size 432x288 with 1 Axes>"
      ]
     },
     "metadata": {
      "needs_background": "light"
     },
     "output_type": "display_data"
    }
   ],
   "source": [
    "## Now implement a logistic regression classifier for the whole dataset\n",
    "\n",
    "logreg = LogisticRegression().fit(Xtrain, Ytrain)\n",
    "Ypred = logreg.predict(Xtest)\n",
    "\n",
    "print('Accuracy of prediction: {:2.3%}'.format(accuracy_score(Ytest, Ypred)))\n",
    "print('Precision of prediction: {:2.3%}'.format(precision_score(Ytest, Ypred)))\n",
    "print('Recall of prediction: {:2.3%}'.format(recall_score(Ytest, Ypred)))\n",
    "print('F1 Score of prediction: {:1.3}'.format(f1_score(Ytest, Ypred)))\n",
    "print('ROC-AUC Score of prediction: {:1.3}'.format(roc_auc_score(Ytest, Ypred)))\n",
    "\n",
    "# Now plot the roc_auc_curve\n",
    "fpr, tpr, threshold = roc_curve(Ytest, logreg.predict_proba(Xtest)[:,1])\n",
    "\n",
    "plt.figure()\n",
    "plt.plot(fpr, tpr, label = 'Logistic Regression (area = %0.2f)' % roc_auc_score(Ytest, Ypred))\n",
    "plt.plot([0, 1], [0, 1], 'r--')\n",
    "plt.xlim([0.0, 1.0])\n",
    "plt.ylim([0.0, 1.05])\n",
    "plt.xlabel('False Positive Rate')\n",
    "plt.ylabel('True Positive Rate')\n",
    "plt.title('Receiver operating characteristic')\n",
    "plt.legend(loc=\"lower right\")\n",
    "plt.show()"
   ]
  },
  {
   "cell_type": "code",
   "execution_count": 147,
   "metadata": {},
   "outputs": [],
   "source": [
    "## Now do a hyperparameter search for the Logistic Regression Classifier\n",
    "# To use this method we use the entire dataset and then standardize the variable values\n",
    "\n",
    "scaler = StandardScaler()\n",
    "XtrainNew = scaler.fit(Xtrain).transform(Xtrain)\n",
    "XtestNew = scaler.fit(Xtest).transform(Xtest)"
   ]
  },
  {
   "cell_type": "code",
   "execution_count": 176,
   "metadata": {},
   "outputs": [],
   "source": [
    "param_grid = {'penalty':['l1','l2'],\n",
    "             'C':np.logspace(-4, 4, 20),\n",
    "             'fit_intercept':[True, False]}\n",
    "logreg = LogisticRegression()\n",
    "clf = GridSearchCV(logreg, param_grid, cv = 5, verbose = 0, scoring = 'roc_auc')"
   ]
  },
  {
   "cell_type": "code",
   "execution_count": 177,
   "metadata": {},
   "outputs": [],
   "source": [
    "best_model = clf.fit(XtrainNew, Ytrain)"
   ]
  },
  {
   "cell_type": "code",
   "execution_count": 178,
   "metadata": {},
   "outputs": [
    {
     "name": "stdout",
     "output_type": "stream",
     "text": [
      "{'C': 0.03359818286283781, 'fit_intercept': True, 'penalty': 'l2'}\n"
     ]
    }
   ],
   "source": [
    "## Show the characteristics of the best model\n",
    "\n",
    "print(best_model.best_params_)"
   ]
  },
  {
   "cell_type": "code",
   "execution_count": 179,
   "metadata": {},
   "outputs": [],
   "source": [
    "Ypred_best = best_model.predict(XtestNew)"
   ]
  },
  {
   "cell_type": "code",
   "execution_count": 180,
   "metadata": {},
   "outputs": [
    {
     "name": "stdout",
     "output_type": "stream",
     "text": [
      "Accuracy of prediction: 88.859%\n",
      "Precision of prediction: 88.000%\n",
      "Recall of prediction: 36.667%\n",
      "F1 Score of prediction: 0.518\n",
      "ROC-AUC Score of prediction: 0.678\n"
     ]
    },
    {
     "data": {
      "image/png": "[encoded data removed]",
      "text/plain": [
       "<Figure size 432x288 with 1 Axes>"
      ]
     },
     "metadata": {
      "needs_background": "light"
     },
     "output_type": "display_data"
    }
   ],
   "source": [
    "print('Accuracy of prediction: {:2.3%}'.format(accuracy_score(Ytest, Ypred_best)))\n",
    "print('Precision of prediction: {:2.3%}'.format(precision_score(Ytest, Ypred_best)))\n",
    "print('Recall of prediction: {:2.3%}'.format(recall_score(Ytest, Ypred_best)))\n",
    "print('F1 Score of prediction: {:1.3}'.format(f1_score(Ytest, Ypred_best)))\n",
    "print('ROC-AUC Score of prediction: {:1.3}'.format(roc_auc_score(Ytest, Ypred_best)))\n",
    "\n",
    "# Now plot the roc_auc_curve\n",
    "fpr, tpr, threshold = roc_curve(Ytest, best_model.predict_proba(XtestNew)[:,1])\n",
    "\n",
    "plt.figure()\n",
    "plt.plot(fpr, tpr, label = 'Logistic Regression (area = %0.2f)' % roc_auc_score(Ytest, Ypred_best))\n",
    "plt.plot([0, 1], [0, 1], 'r--')\n",
    "plt.xlim([0.0, 1.0])\n",
    "plt.ylim([0.0, 1.05])\n",
    "plt.xlabel('False Positive Rate')\n",
    "plt.ylabel('True Positive Rate')\n",
    "plt.title('Receiver operating characteristic')\n",
    "plt.legend(loc=\"lower right\")\n",
    "plt.show()"
   ]
  },
  {
   "cell_type": "code",
   "execution_count": 184,
   "metadata": {},
   "outputs": [],
   "source": [
    "## Now we implement a method where we have both RFECV and GridSearchCV simulatenously\n",
    "## We first do a feature selection with a simpler model and then fine tune the hyperparameters using GridSearchCV\n",
    "\n",
    "seed = 50\n",
    "\n",
    "param_grid = {'penalty':['l1','l2'],\n",
    "             'C':np.logspace(-4, 4, 20), \n",
    "             'fit_intercept':[True, False]} \n",
    "\n",
    "logreg = LogisticRegression(random_state = seed)\n",
    "logreg_RFECV = RFECV(logreg, step = 1, cv = 3, scoring = 'roc_auc')\n",
    "logreg_GridSearchCV = GridSearchCV(logreg, param_grid, cv = 5, scoring = 'roc_auc')\n",
    "pipeline = Pipeline([('RFECV_1', logreg_RFECV), ('Grid_2', logreg_GridSearchCV)])"
   ]
  },
  {
   "cell_type": "code",
   "execution_count": 185,
   "metadata": {},
   "outputs": [
    {
     "data": {
      "text/plain": [
       "Pipeline(steps=[('RFECV_1',\n",
       "                 RFECV(cv=3, estimator=LogisticRegression(random_state=50),\n",
       "                       scoring='roc_auc')),\n",
       "                ('Grid_2',\n",
       "                 GridSearchCV(cv=5,\n",
       "                              estimator=LogisticRegression(random_state=50),\n",
       "                              param_grid={'C': array([1.00000000e-04, 2.63665090e-04, 6.95192796e-04, 1.83298071e-03,\n",
       "       4.83293024e-03, 1.27427499e-02, 3.35981829e-02, 8.85866790e-02,\n",
       "       2.33572147e-01, 6.15848211e-01, 1.62377674e+00, 4.28133240e+00,\n",
       "       1.12883789e+01, 2.97635144e+01, 7.84759970e+01, 2.06913808e+02,\n",
       "       5.45559478e+02, 1.43844989e+03, 3.79269019e+03, 1.00000000e+04]),\n",
       "                                          'fit_intercept': [True, False],\n",
       "                                          'penalty': ['l1', 'l2']},\n",
       "                              scoring='roc_auc'))])"
      ]
     },
     "execution_count": 185,
     "metadata": {},
     "output_type": "execute_result"
    }
   ],
   "source": [
    "pipeline.fit(XtrainNew, Ytrain)"
   ]
  },
  {
   "cell_type": "code",
   "execution_count": 186,
   "metadata": {},
   "outputs": [
    {
     "name": "stdout",
     "output_type": "stream",
     "text": [
      "Accuracy of prediction: 88.587%\n",
      "Precision of prediction: 87.500%\n",
      "Recall of prediction: 35.000%\n",
      "F1 Score of prediction: 0.5\n",
      "ROC-AUC Score of prediction: 0.67\n"
     ]
    },
    {
     "data": {
      "image/png": "[encoded data removed]",
      "text/plain": [
       "<Figure size 432x288 with 1 Axes>"
      ]
     },
     "metadata": {
      "needs_background": "light"
     },
     "output_type": "display_data"
    }
   ],
   "source": [
    "Ypred_RFECV_best = pipeline.predict(XtestNew)\n",
    "\n",
    "print('Accuracy of prediction: {:2.3%}'.format(accuracy_score(Ytest, Ypred_RFECV_best)))\n",
    "print('Precision of prediction: {:2.3%}'.format(precision_score(Ytest, Ypred_RFECV_best)))\n",
    "print('Recall of prediction: {:2.3%}'.format(recall_score(Ytest, Ypred_RFECV_best)))\n",
    "print('F1 Score of prediction: {:1.3}'.format(f1_score(Ytest, Ypred_RFECV_best)))\n",
    "print('ROC-AUC Score of prediction: {:1.3}'.format(roc_auc_score(Ytest, Ypred_RFECV_best)))\n",
    "\n",
    "# Now plot the roc_auc_curve\n",
    "fpr, tpr, threshold = roc_curve(Ytest, pipeline.predict_proba(XtestNew)[:,1])\n",
    "\n",
    "plt.figure()\n",
    "plt.plot(fpr, tpr, label = 'Logistic Regression (area = %0.2f)' % roc_auc_score(Ytest, Ypred_RFECV_best))\n",
    "plt.plot([0, 1], [0, 1], 'r--')\n",
    "plt.xlim([0.0, 1.0])\n",
    "plt.ylim([0.0, 1.05])\n",
    "plt.xlabel('False Positive Rate')\n",
    "plt.ylabel('True Positive Rate')\n",
    "plt.title('Receiver operating characteristic')\n",
    "plt.legend(loc=\"lower right\")\n",
    "plt.show()"
   ]
  },
  {
   "cell_type": "code",
   "execution_count": 205,
   "metadata": {},
   "outputs": [
    {
     "name": "stdout",
     "output_type": "stream",
     "text": [
      "Index(['Age', 'DailyRate', 'DistanceFromHome', 'Education',\n",
      "       'EnvironmentSatisfaction', 'JobInvolvement', 'JobLevel',\n",
      "       'JobSatisfaction', 'MonthlyIncome', 'NumCompaniesWorked',\n",
      "       'PercentSalaryHike', 'PerformanceRating', 'RelationshipSatisfaction',\n",
      "       'TotalWorkingYears', 'TrainingTimesLastYear', 'WorkLifeBalance',\n",
      "       'YearsAtCompany', 'YearsInCurrentRole', 'YearsSinceLastPromotion',\n",
      "       'YearsWithCurrManager', 'BusinessTravel_No', 'BusinessTravel_Freq',\n",
      "       'BusinessTravel_Rare', 'Department_HR', 'Department_R&D',\n",
      "       'Department_Sales', 'EducationField_EducHR', 'EducationField_LifeSc',\n",
      "       'EducationField_Marketing', 'EducationField_Medical',\n",
      "       'EducationField_Other', 'EducationField_Technical', 'Gender_Female',\n",
      "       'Gender_Male', 'JobRole_HealthRep', 'JobRole_RoleHR', 'JobRole_LabTech',\n",
      "       'JobRole_Manager', 'JobRole_ManufDir', 'JobRole_ResDir',\n",
      "       'JobRole_Scientist', 'JobRole_SalexExec', 'JobRole_SalesRep',\n",
      "       'MaritalStatus_Divorced', 'MaritalStatus_Married',\n",
      "       'MaritalStatus_Single', 'OverTime_No', 'OverTime_Yes'],\n",
      "      dtype='object')\n",
      "{'C': 0.03359818286283781, 'fit_intercept': True, 'penalty': 'l2'}\n"
     ]
    }
   ],
   "source": [
    "## Show the best parameters and the features selected\n",
    "\n",
    "print(Xtrain.columns[pipeline['RFECV_1'].support_])\n",
    "print(pipeline['Grid_2'].best_params_)"
   ]
  },
  {
   "cell_type": "code",
   "execution_count": null,
   "metadata": {},
   "outputs": [],
   "source": [
    "# Issues to take care of: regularization in LogisticRegression, regularization in LogisticRegression, regularization parameter tuning, \n",
    "# Parameter selection whether to include all the remaining levels, other hyperparameter tuning, choosing the statistics to plot\n",
    "\n",
    "# GRADIENT BOOSTING CLASSIFIER\n",
    "# First do feature selection and show metrics\n",
    "# Then with selected features do logistic regression with hyperparaneter tuning \n",
    "# Then do a combination of feature selection and hyperparamerer tuning "
   ]
  },
  {
   "cell_type": "code",
   "execution_count": 221,
   "metadata": {},
   "outputs": [],
   "source": [
    "# X, y = make_classification(n_samples=1000, n_features=25, n_informative=5, n_redundant=2, n_repeated=0, n_classes=8, n_clusters_per_class=1, random_state=0)\n",
    "\n",
    "# grid = {\"estimator__max_depth\": [3, None],\n",
    "#         \"estimator__min_samples_split\": sp_randint(1, 11),\n",
    "#         \"estimator__min_samples_leaf\": sp_randint(1, 11),\n",
    "#         \"estimator__bootstrap\": [True, False],\n",
    "#         \"estimator__criterion\": [\"gini\", \"entropy\"]}\n",
    "\n",
    "# estimator = LogisticRegression(random_state = seed)\n",
    "# selector = RFECV(estimator, step=1, cv=4)\n",
    "# clf = GridSearchCV(selector, param_grid, cv=7)\n",
    "# clf.fit(XtrainNew, Ytrain)\n",
    "# print(clf.best_params_)\n",
    "# print(Xtrain.columns[clf.best_estimator_.support_])"
   ]
  },
  {
   "cell_type": "code",
   "execution_count": null,
   "metadata": {},
   "outputs": [],
   "source": []
  },
  {
   "cell_type": "code",
   "execution_count": null,
   "metadata": {},
   "outputs": [],
   "source": []
  }
 ],
 "metadata": {
  "kernelspec": {
   "display_name": "Python 3",
   "language": "python",
   "name": "python3"
  },
  "language_info": {
   "codemirror_mode": {
    "name": "ipython",
    "version": 3
   },
   "file_extension": ".py",
   "mimetype": "text/x-python",
   "name": "python",
   "nbconvert_exporter": "python",
   "pygments_lexer": "ipython3",
   "version": "3.8.5"
  }
 },
 "nbformat": 4,
 "nbformat_minor": 4
}
