{
 "cells": [
  {
   "cell_type": "code",
   "execution_count": 1,
   "metadata": {},
   "outputs": [
    {
     "name": "stderr",
     "output_type": "stream",
     "text": [
      "C:\\Users\\Public\\anaconda3\\lib\\site-packages\\tensorflow\\python\\framework\\dtypes.py:516: FutureWarning: Passing (type, 1) or '1type' as a synonym of type is deprecated; in a future version of numpy, it will be understood as (type, (1,)) / '(1,)type'.\n",
      "  _np_qint8 = np.dtype([(\"qint8\", np.int8, 1)])\n",
      "C:\\Users\\Public\\anaconda3\\lib\\site-packages\\tensorflow\\python\\framework\\dtypes.py:517: FutureWarning: Passing (type, 1) or '1type' as a synonym of type is deprecated; in a future version of numpy, it will be understood as (type, (1,)) / '(1,)type'.\n",
      "  _np_quint8 = np.dtype([(\"quint8\", np.uint8, 1)])\n",
      "C:\\Users\\Public\\anaconda3\\lib\\site-packages\\tensorflow\\python\\framework\\dtypes.py:518: FutureWarning: Passing (type, 1) or '1type' as a synonym of type is deprecated; in a future version of numpy, it will be understood as (type, (1,)) / '(1,)type'.\n",
      "  _np_qint16 = np.dtype([(\"qint16\", np.int16, 1)])\n",
      "C:\\Users\\Public\\anaconda3\\lib\\site-packages\\tensorflow\\python\\framework\\dtypes.py:519: FutureWarning: Passing (type, 1) or '1type' as a synonym of type is deprecated; in a future version of numpy, it will be understood as (type, (1,)) / '(1,)type'.\n",
      "  _np_quint16 = np.dtype([(\"quint16\", np.uint16, 1)])\n",
      "C:\\Users\\Public\\anaconda3\\lib\\site-packages\\tensorflow\\python\\framework\\dtypes.py:520: FutureWarning: Passing (type, 1) or '1type' as a synonym of type is deprecated; in a future version of numpy, it will be understood as (type, (1,)) / '(1,)type'.\n",
      "  _np_qint32 = np.dtype([(\"qint32\", np.int32, 1)])\n",
      "C:\\Users\\Public\\anaconda3\\lib\\site-packages\\tensorflow\\python\\framework\\dtypes.py:525: FutureWarning: Passing (type, 1) or '1type' as a synonym of type is deprecated; in a future version of numpy, it will be understood as (type, (1,)) / '(1,)type'.\n",
      "  np_resource = np.dtype([(\"resource\", np.ubyte, 1)])\n",
      "C:\\Users\\Public\\anaconda3\\lib\\site-packages\\tensorboard\\compat\\tensorflow_stub\\dtypes.py:541: FutureWarning: Passing (type, 1) or '1type' as a synonym of type is deprecated; in a future version of numpy, it will be understood as (type, (1,)) / '(1,)type'.\n",
      "  _np_qint8 = np.dtype([(\"qint8\", np.int8, 1)])\n",
      "C:\\Users\\Public\\anaconda3\\lib\\site-packages\\tensorboard\\compat\\tensorflow_stub\\dtypes.py:542: FutureWarning: Passing (type, 1) or '1type' as a synonym of type is deprecated; in a future version of numpy, it will be understood as (type, (1,)) / '(1,)type'.\n",
      "  _np_quint8 = np.dtype([(\"quint8\", np.uint8, 1)])\n",
      "C:\\Users\\Public\\anaconda3\\lib\\site-packages\\tensorboard\\compat\\tensorflow_stub\\dtypes.py:543: FutureWarning: Passing (type, 1) or '1type' as a synonym of type is deprecated; in a future version of numpy, it will be understood as (type, (1,)) / '(1,)type'.\n",
      "  _np_qint16 = np.dtype([(\"qint16\", np.int16, 1)])\n",
      "C:\\Users\\Public\\anaconda3\\lib\\site-packages\\tensorboard\\compat\\tensorflow_stub\\dtypes.py:544: FutureWarning: Passing (type, 1) or '1type' as a synonym of type is deprecated; in a future version of numpy, it will be understood as (type, (1,)) / '(1,)type'.\n",
      "  _np_quint16 = np.dtype([(\"quint16\", np.uint16, 1)])\n",
      "C:\\Users\\Public\\anaconda3\\lib\\site-packages\\tensorboard\\compat\\tensorflow_stub\\dtypes.py:545: FutureWarning: Passing (type, 1) or '1type' as a synonym of type is deprecated; in a future version of numpy, it will be understood as (type, (1,)) / '(1,)type'.\n",
      "  _np_qint32 = np.dtype([(\"qint32\", np.int32, 1)])\n",
      "C:\\Users\\Public\\anaconda3\\lib\\site-packages\\tensorboard\\compat\\tensorflow_stub\\dtypes.py:550: FutureWarning: Passing (type, 1) or '1type' as a synonym of type is deprecated; in a future version of numpy, it will be understood as (type, (1,)) / '(1,)type'.\n",
      "  np_resource = np.dtype([(\"resource\", np.ubyte, 1)])\n"
     ]
    }
   ],
   "source": [
    "import tensorflow as tf\n",
    "from tensorflow import keras\n",
    "import numpy as np\n",
    "import matplotlib.pyplot as plt\n",
    "from os import path, getcwd"
   ]
  },
  {
   "cell_type": "code",
   "execution_count": 8,
   "metadata": {},
   "outputs": [
    {
     "name": "stdout",
     "output_type": "stream",
     "text": [
      "255\n",
      "60000 10000 (28, 28) (28, 28) 28\n",
      "(60000, 28, 28, 1) (10000, 28, 28, 1)\n"
     ]
    }
   ],
   "source": [
    "# Loading fashion mnist data\n",
    "mnist = tf.keras.datasets.fashion_mnist\n",
    "(train_images, train_label), (test_images, test_label) = mnist.load_data()\n",
    "\n",
    "# Normalizing data\n",
    "maxpixel = np.max([np.max(train_images),np.max(test_images)])\n",
    "print(maxpixel)\n",
    "train_images = train_images/float(maxpixel)\n",
    "test_images = test_images/float(maxpixel)\n",
    "trainsize = train_images.shape[0]\n",
    "testsize = test_images.shape[0]\n",
    "traindim = train_images.shape[1:3]\n",
    "testdim = test_images.shape[1:3]\n",
    "print(trainsize, testsize, traindim, testdim, traindim[1])\n",
    "\n",
    "# Reshaping information for convention\n",
    "train_images = train_images.reshape(trainsize, traindim[0], traindim[1], 1)\n",
    "test_images = test_images.reshape(testsize, testdim[0], testdim[1], 1)\n",
    "print(train_images.shape, test_images.shape)"
   ]
  },
  {
   "cell_type": "code",
   "execution_count": 16,
   "metadata": {},
   "outputs": [
    {
     "name": "stdout",
     "output_type": "stream",
     "text": [
      "Model: \"sequential_1\"\n",
      "_________________________________________________________________\n",
      "Layer (type)                 Output Shape              Param #   \n",
      "=================================================================\n",
      "conv2d_6 (Conv2D)            (None, 26, 26, 64)        640       \n",
      "_________________________________________________________________\n",
      "max_pooling2d_4 (MaxPooling2 (None, 13, 13, 64)        0         \n",
      "_________________________________________________________________\n",
      "conv2d_7 (Conv2D)            (None, 11, 11, 64)        36928     \n",
      "_________________________________________________________________\n",
      "max_pooling2d_5 (MaxPooling2 (None, 5, 5, 64)          0         \n",
      "_________________________________________________________________\n",
      "flatten_1 (Flatten)          (None, 1600)              0         \n",
      "_________________________________________________________________\n",
      "dense_2 (Dense)              (None, 128)               204928    \n",
      "_________________________________________________________________\n",
      "dense_3 (Dense)              (None, 10)                1290      \n",
      "=================================================================\n",
      "Total params: 243,786\n",
      "Trainable params: 243,786\n",
      "Non-trainable params: 0\n",
      "_________________________________________________________________\n"
     ]
    }
   ],
   "source": [
    "# Defining the model to run\n",
    "\n",
    "model = tf.keras.models.Sequential([\n",
    "        # Convolutional layer with 64 filters each of dimension (3,3) with no padding\n",
    "        tf.keras.layers.Conv2D(64, (3,3), activation = 'relu', input_shape = (traindim[0], traindim[1], 1)),\n",
    "        \n",
    "        # MaxPooling Layer with window (2,2)\n",
    "        tf.keras.layers.MaxPooling2D(pool_size = (2,2)),\n",
    "    \n",
    "        # Second convlutional layer with 64 filters and window of (3,3) with no padding\n",
    "        tf.keras.layers.Conv2D(64, (3,3), activation = 'relu'),\n",
    "    \n",
    "        # Second Maxpooling Layer with wiondow (2,2) again\n",
    "        tf.keras.layers.MaxPooling2D(pool_size = (2,2)),\n",
    "    \n",
    "        # Flattening Layer\n",
    "        tf.keras.layers.Flatten(),\n",
    "    \n",
    "        # Dense layer with units and number of neurons\n",
    "        tf.keras.layers.Dense(units = 128, activation = tf.nn.relu),\n",
    "    \n",
    "        # Dense layer with softmax activation\n",
    "        tf.keras.layers.Dense(units = 10, activation = tf.nn.softmax)\n",
    "])\n",
    "\n",
    "# Compiling the model\n",
    "model.compile(optimizer = 'adam', loss = 'sparse_categorical_crossentropy', metrics = ['accuracy'])\n",
    "\n",
    "# Summarizing the model\n",
    "model.summary()"
   ]
  },
  {
   "cell_type": "code",
   "execution_count": 17,
   "metadata": {},
   "outputs": [
    {
     "name": "stdout",
     "output_type": "stream",
     "text": [
      "Epoch 1/10\n",
      "60000/60000 [==============================] - 110s 2ms/sample - loss: 0.4447 - acc: 0.8364\n",
      "Epoch 2/10\n",
      "60000/60000 [==============================] - 102s 2ms/sample - loss: 0.2960 - acc: 0.8912\n",
      "Epoch 3/10\n",
      "60000/60000 [==============================] - 112s 2ms/sample - loss: 0.2489 - acc: 0.9082s - loss: 0.2491 - acc\n",
      "Epoch 4/10\n",
      "60000/60000 [==============================] - 115s 2ms/sample - loss: 0.2170 - acc: 0.9187\n",
      "Epoch 5/10\n",
      "60000/60000 [==============================] - 126s 2ms/sample - loss: 0.1892 - acc: 0.9294\n",
      "Epoch 6/10\n",
      "60000/60000 [==============================] - 123s 2ms/sample - loss: 0.1652 - acc: 0.9372\n",
      "Epoch 7/10\n",
      "60000/60000 [==============================] - 121s 2ms/sample - loss: 0.1456 - acc: 0.9456\n",
      "Epoch 8/10\n",
      "59968/60000 [============================>.] - ETA: 0s - loss: 0.1275 - acc: 0.9519\n",
      "Accuracy of the model exceeds 95% - Aborting Training\n",
      "60000/60000 [==============================] - 125s 2ms/sample - loss: 0.1275 - acc: 0.9519\n"
     ]
    },
    {
     "data": {
      "text/plain": [
       "<tensorflow.python.keras.callbacks.History at 0xaa3276de48>"
      ]
     },
     "execution_count": 17,
     "metadata": {},
     "output_type": "execute_result"
    }
   ],
   "source": [
    "# Fitting the model\n",
    "class myCallBack(tf.keras.callbacks.Callback):\n",
    "    def on_epoch_end(self, epoch, logs = {}):\n",
    "        if(logs.get('acc')>0.95):\n",
    "            print(\"\\nAccuracy of the model exceeds 95% - Aborting Training\")\n",
    "            self.model.stop_training = True\n",
    "callbacks = myCallBack()            \n",
    "            \n",
    "model.fit(train_images, train_label, epochs = 10, callbacks = [callbacks])"
   ]
  },
  {
   "cell_type": "code",
   "execution_count": 18,
   "metadata": {},
   "outputs": [
    {
     "name": "stdout",
     "output_type": "stream",
     "text": [
      "10000/10000 [==============================] - 4s 382us/sample - loss: 0.2568 - acc: 0.9195s - loss: 0.2614 - acc: \n",
      "0.25679346113502977 0.9195\n"
     ]
    }
   ],
   "source": [
    "# Evaluating the model on the test data\n",
    "test_loss, test_accuracy = model.evaluate(test_images, test_label)\n",
    "print(test_loss, test_accuracy)"
   ]
  },
  {
   "cell_type": "code",
   "execution_count": 20,
   "metadata": {},
   "outputs": [
    {
     "name": "stdout",
     "output_type": "stream",
     "text": [
      "Tensor(\"conv2d_6_input:0\", shape=(?, 28, 28, 1), dtype=float32)\n"
     ]
    },
    {
     "data": {
      "image/png": "[encoded data removed]",
      "text/plain": [
       "<Figure size 432x288 with 12 Axes>"
      ]
     },
     "metadata": {
      "needs_background": "light"
     },
     "output_type": "display_data"
    }
   ],
   "source": [
    "## Visualizing the convolution process\n",
    "\n",
    "# Generating a plot space with 3 rows and 4 columns\n",
    "f, axarr = plt.subplots(3,4)\n",
    "FIRST_IMAGE = 0\n",
    "SECOND_IMAGE = 7\n",
    "THIRD_IMAGE = 26\n",
    "CONVOLUTION_NUMBER = 1\n",
    "\n",
    "from tensorflow.keras import models\n",
    "print(model.input)\n",
    "# Create an array of the outputs for each layer in the model\n",
    "layer_outputs = [layer.output for layer in model.layers]\n",
    "activation_model = tf.keras.models.Model(inputs = model.input, outputs = layer_outputs)\n",
    "for x in range(0,4):\n",
    "    f1 = activation_model.predict(test_images[FIRST_IMAGE].reshape(1,28,28,1))[x]\n",
    "    axarr[0,x].imshow(f1[0, : , :, CONVOLUTION_NUMBER], cmap='inferno')\n",
    "    axarr[0,x].grid(False)\n",
    "    f2 = activation_model.predict(test_images[SECOND_IMAGE].reshape(1, 28, 28, 1))[x]\n",
    "    axarr[1,x].imshow(f2[0, : , :, CONVOLUTION_NUMBER], cmap='inferno')\n",
    "    axarr[1,x].grid(False)\n",
    "    f3 = activation_model.predict(test_images[THIRD_IMAGE].reshape(1, 28, 28, 1))[x]\n",
    "    axarr[2,x].imshow(f3[0, : , :, CONVOLUTION_NUMBER], cmap='inferno')\n",
    "    axarr[2,x].grid(False)"
   ]
  },
  {
   "cell_type": "code",
   "execution_count": null,
   "metadata": {},
   "outputs": [],
   "source": []
  }
 ],
 "metadata": {
  "kernelspec": {
   "display_name": "Python 3",
   "language": "python",
   "name": "python3"
  },
  "language_info": {
   "codemirror_mode": {
    "name": "ipython",
    "version": 3
   },
   "file_extension": ".py",
   "mimetype": "text/x-python",
   "name": "python",
   "nbconvert_exporter": "python",
   "pygments_lexer": "ipython3",
   "version": "3.7.6"
  }
 },
 "nbformat": 4,
 "nbformat_minor": 4
}
